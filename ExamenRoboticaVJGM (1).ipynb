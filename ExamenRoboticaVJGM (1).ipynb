{
 "cells": [
  {
   "cell_type": "markdown",
   "id": "00f40d11-c8bf-4e35-b9ee-41ae45e0a501",
   "metadata": {},
   "source": [
    "### UNIVERSIDAD NACIONAL AUTÓNOMA DE MÉXICO\n",
    "\n",
    "#### FACULTAD DE INGENIERÍA \n",
    "#### SEMESTRE 2025-2\n",
    "#### ASIGNATURA: ROBOTICA\n",
    "#### PROFESOR: ERIK PEÑA MEDINA\n",
    "#### ALUMNO: GUTIERREZ MELGOZA VICENTE JONATHAN"
   ]
  },
  {
   "cell_type": "markdown",
   "id": "7122b766-0cca-4734-b765-c27542a5537b",
   "metadata": {},
   "source": [
    "#### PRIMER EXAMEN PARCIAL"
   ]
  },
  {
   "cell_type": "code",
   "execution_count": 2,
   "id": "234d2f5b-f8f0-4fcf-8ed3-a501de2dcb9e",
   "metadata": {},
   "outputs": [],
   "source": [
    "## --------------------------------------------------------------------------------------------------------------------------------------------"
   ]
  },
  {
   "cell_type": "markdown",
   "id": "72d4a2de-618e-4e48-8fc0-dbf7e4cea52d",
   "metadata": {},
   "source": [
    "### INTRODUCCIÓN"
   ]
  },
  {
   "cell_type": "markdown",
   "id": "f674d3b2-dbb5-44c3-9593-34f4f821bc01",
   "metadata": {},
   "source": [
    "El estudio del comportamiento de un robot, requiere herramientas que permitan describir cómo se mueven, cómo se posicionan y cómo responden dinámicamente ante estímulos externos. Se tuvieron que desarrollar representaciones matemáticas que modelen tanto la cinemática como la dinámica del sistema. Este examen tiene como finalidad documentar la construcción e implementación de dichos modelos con el apoyo de la plataforma MATLAB.\n",
    "A través del modelado cinemático es posible predecir la posición y orientación del efector final del robot a partir de los ángulos de sus articulaciones, así como determinar qué combinaciones de movimientos articulares permiten alcanzar una ubicación específica. De manera complementaria, el análisis de velocidades y aceleraciones articulares permite entender cómo se transmiten estos cambios al efector final, lo cual es clave para un control eficiente y preciso.\n",
    "Por su parte, el modelado dinámico permite identificar las fuerzas y torques que deben aplicarse a las articulaciones para generar movimientos deseados, considerando aspectos como la masa, la energía cinética y potencial de cada eslabón. Este análisis resulta esencial para la planificación de trayectorias, el diseño de sistemas de control robusto y la optimización del rendimiento del robot en tareas complejas.\n",
    "En las siguientes secciones se detallará el proceso de desarrollo de estos modelos, su formulación matemática y su implementación en MATLAB, con el fin de proporcionar una visión integral del comportamiento del robot desde el modelado en Scara del robot.\n"
   ]
  },
  {
   "cell_type": "markdown",
   "id": "b43040f2-ebc7-45d0-9fcd-5f57b658aa1f",
   "metadata": {},
   "source": [
    "### MODELADO CINEMATICO DE LA POSTURA DE UN ROBOT."
   ]
  },
  {
   "cell_type": "markdown",
   "id": "f5976ce1-6f9c-4e23-8ad9-9053acd7544a",
   "metadata": {},
   "source": [
    "Para modelar la relación de posición y orientación entre eslabones consecutivos de un robot manipulador, se definió una función simbólica que genera una matriz de transformación homogénea de dimensiones 4x4. Esta matriz es fundamental para representar tanto la rotación como la traslación de un sistema de coordenadas 𝑖 con respecto a otro sistema 𝑗. La función Tij se formuló utilizando las variables simbólicas x_ij, y_ij, z_ij, que corresponden a los componentes de traslación, junto con los ángulos de Euler y_j, B_j y a_j, que representan las rotaciones sucesivas del sistema 𝑖 hacia el sistema 𝑗, a través de los ejes Z, Y y X, respectivamente."
   ]
  },
  {
   "cell_type": "code",
   "execution_count": 1,
   "id": "d5c8ef3e-6b95-4618-a03a-6f00d816c225",
   "metadata": {},
   "outputs": [
    {
     "data": {
      "text/latex": [
       "$\\displaystyle \\left[\\begin{matrix}\\cos{\\left(ai_{j} \\right)} \\cos{\\left(bi_{j} \\right)} & - \\sin{\\left(ai_{j} \\right)} \\cos{\\left(gi_{j} \\right)} + \\sin{\\left(bi_{j} \\right)} \\sin{\\left(gi_{j} \\right)} \\cos{\\left(ai_{j} \\right)} & \\sin{\\left(ai_{j} \\right)} \\sin{\\left(gi_{j} \\right)} + \\sin{\\left(bi_{j} \\right)} \\cos{\\left(ai_{j} \\right)} \\cos{\\left(gi_{j} \\right)} & x_{i j}\\\\\\sin{\\left(ai_{j} \\right)} \\cos{\\left(bi_{j} \\right)} & \\sin{\\left(ai_{j} \\right)} \\sin{\\left(bi_{j} \\right)} \\sin{\\left(gi_{j} \\right)} + \\cos{\\left(ai_{j} \\right)} \\cos{\\left(gi_{j} \\right)} & \\sin{\\left(ai_{j} \\right)} \\sin{\\left(bi_{j} \\right)} \\cos{\\left(gi_{j} \\right)} - \\sin{\\left(gi_{j} \\right)} \\cos{\\left(ai_{j} \\right)} & y_{i j}\\\\- \\sin{\\left(bi_{j} \\right)} & \\sin{\\left(gi_{j} \\right)} \\cos{\\left(bi_{j} \\right)} & \\cos{\\left(bi_{j} \\right)} \\cos{\\left(gi_{j} \\right)} & z_{i j}\\\\0 & 0 & 0 & 1\\end{matrix}\\right]$"
      ],
      "text/plain": [
       "Matrix([\n",
       "[cos(ai_j)*cos(bi_j), -sin(ai_j)*cos(gi_j) + sin(bi_j)*sin(gi_j)*cos(ai_j), sin(ai_j)*sin(gi_j) + sin(bi_j)*cos(ai_j)*cos(gi_j), x_i_j],\n",
       "[sin(ai_j)*cos(bi_j),  sin(ai_j)*sin(bi_j)*sin(gi_j) + cos(ai_j)*cos(gi_j), sin(ai_j)*sin(bi_j)*cos(gi_j) - sin(gi_j)*cos(ai_j), y_i_j],\n",
       "[         -sin(bi_j),                                  sin(gi_j)*cos(bi_j),                                 cos(bi_j)*cos(gi_j), z_i_j],\n",
       "[                  0,                                                    0,                                                   0,     1]])"
      ]
     },
     "execution_count": 1,
     "metadata": {},
     "output_type": "execute_result"
    }
   ],
   "source": [
    "& Importar la librería SymPy, que nos permitirá trabajar con algébra simbólica\n",
    "import sympy as sp\n",
    "\n",
    "& Definir las variables simbólicas que se utilizarán en la matriz de transformación homogénea\n",
    "& Estas variables representan los desplazamientos (x_i_j, y_i_j, z_i_j) y los ángulos de Euler (gi_j, bi_j, ai_j)\n",
    "x_i_j, y_i_j, z_i_j, gi_j, bi_j, ai_j = sp.symbols('x_i_j y_i_j z_i_j gi_j bi_j ai_j')\n",
    "\n",
    "& Definir la matriz de transformación homogénea Tij, que describe la relación entre dos sistemas de coordenadas\n",
    "  La matriz es de 4x4, donde la primera parte de la matriz corresponde a las rotaciones, y la última columna representa las traslaciones\n",
    "\n",
    "Tij = sp.Matrix([  # Creamos la matriz de transformación\n",
    "    & Primera fila: describe la transformación en el eje X, utilizando los ángulos de Euler\n",
    "    [sp.cos(ai_j)*sp.cos(bi_j),  # Coseno de la rotación en X y Y\n",
    "     sp.cos(ai_j)*sp.sin(bi_j)*sp.sin(gi_j) - sp.sin(ai_j)*sp.cos(gi_j),  # Rotación en el eje Y (combinación de gi_j y bi_j)\n",
    "     sp.sin(ai_j)*sp.sin(gi_j) + sp.cos(ai_j)*sp.sin(bi_j)*sp.cos(gi_j),  # Rotación en el eje Z\n",
    "     x_i_j],  # Desplazamiento en X\n",
    "\n",
    "    & Segunda fila: describe la transformación en el eje Y\n",
    "    [sp.sin(ai_j)*sp.cos(bi_j),  # Rotación en el eje X\n",
    "     sp.cos(ai_j)*sp.cos(gi_j) + sp.sin(ai_j)*sp.sin(bi_j)*sp.sin(gi_j),  # Rotación en el eje Y\n",
    "     sp.sin(ai_j)*sp.sin(bi_j)*sp.cos(gi_j) - sp.cos(ai_j)*sp.sin(gi_j),  # Rotación en el eje Z\n",
    "     y_i_j],  # Desplazamiento en Y\n",
    "\n",
    "    & Tercera fila: describe la transformación en el eje Z\n",
    "    [-sp.sin(bi_j),  # Rotación en el eje X\n",
    "     sp.cos(bi_j)*sp.sin(gi_j),  # Rotación en el eje Y\n",
    "     sp.cos(bi_j)*sp.cos(gi_j),  # Rotación en el eje Z\n",
    "     z_i_j],  # Desplazamiento en Z\n",
    "\n",
    "    & Cuarta fila: representa la fila de homogeneidad de la matriz 4x4\n",
    "    [0, 0, 0, 1]  & Fila de homogeneidad que asegura que la matriz es una matriz de transformación homogénea 4x4\n",
    "])\n",
    "\n",
    "& Mostrar la matriz resultante para observar cómo se representa la transformación homogénea\n",
    "Tij\n"
   ]
  },
  {
   "cell_type": "markdown",
   "id": "fa872938-73b2-49b3-8a5a-243451094b08",
   "metadata": {},
   "source": [
    "### MODELADO CINEMATICO DE LAS VELOCIDADES.\n"
   ]
  },
  {
   "attachments": {
    "743e4525-9ac5-4004-96d7-0da472d3f15b.png": {
     "image/png": "[encoded data removed]"
    }
   },
   "cell_type": "markdown",
   "id": "938f7c23-090e-410d-8bb8-7d08902ca4ba",
   "metadata": {},
   "source": [
    "![2.1.1.png](attachment:743e4525-9ac5-4004-96d7-0da472d3f15b.png)"
   ]
  },
  {
   "cell_type": "code",
   "execution_count": 23,
   "id": "96b9e3a6-d581-4315-8dba-852cc1e576f6",
   "metadata": {},
   "outputs": [
    {
     "data": {
      "text/latex": [
       "$\\displaystyle \\left[\\begin{matrix}\\cos{\\left(\\theta_{O 1} \\right)} & - \\sin{\\left(\\theta_{O 1} \\right)} & 0 & x_{O 1}\\\\\\sin{\\left(\\theta_{O 1} \\right)} & \\cos{\\left(\\theta_{O 1} \\right)} & 0 & y_{O 1}\\\\0 & 0 & 1 & 0\\\\0 & 0 & 0 & 1\\end{matrix}\\right]$"
      ],
      "text/plain": [
       "Matrix([\n",
       "[cos(theta_O_1), -sin(theta_O_1), 0, x_O_1],\n",
       "[sin(theta_O_1),  cos(theta_O_1), 0, y_O_1],\n",
       "[             0,               0, 1,     0],\n",
       "[             0,               0, 0,     1]])"
      ]
     },
     "execution_count": 23,
     "metadata": {},
     "output_type": "execute_result"
    }
   ],
   "source": [
    "# Importar la librería SymPy, que nos permitirá trabajar con álgebra simbólica y matrices\n",
    "import sympy as sp\n",
    "\n",
    "# Definir las variables simbólicas que se utilizarán en la matriz\n",
    "# x_O_1, y_O_1: Traslaciones en los ejes X y Y del sistema de coordenadas 1\n",
    "# theta_O_1: Ángulo de rotación alrededor del eje Z\n",
    "x_O_1, y_O_1, theta_O_1 = sp.symbols('x_O_1 y_O_1 theta_O_1')\n",
    "\n",
    "# Definir la matriz de transformación Tij para un movimiento 2D en el plano XY\n",
    "# Esta matriz representa una rotación en el plano XY alrededor del eje Z y una traslación en los ejes X y Y\n",
    "# La matriz es de 4x4, con la primera parte que corresponde a la rotación y la última columna que representa las traslaciones.\n",
    "def Tij(x, y, theta):\n",
    "    return sp.Matrix([\n",
    "        # Primera fila: describe la rotación en el plano XY y la traslación en el eje X\n",
    "        [sp.cos(theta), -sp.sin(theta), 0, x],   # Coseno y seno de theta, representando la rotación en X y Y\n",
    "        # Segunda fila: describe la rotación en el plano XY y la traslación en el eje Y\n",
    "        [sp.sin(theta), sp.cos(theta), 0, y],    # Sin y coseno de theta, representando la rotación en Y\n",
    "        # Tercera fila: representa una rotación en el plano XY (sin traslación en Z)\n",
    "        [0, 0, 1, 0],                           # No hay cambio en el eje Z, por lo que la traslación es 0\n",
    "        # Cuarta fila: fila de homogeneidad que asegura que la matriz es una matriz de transformación homogénea 4x4\n",
    "        [0, 0, 0, 1]                            # Esta fila se mantiene constante para mantener la estructura homogénea\n",
    "    ])\n",
    "\n",
    "# Llamar a la función Tij con los parámetros previamente definidos\n",
    "# Utilizamos las variables simbólicas x_O_1, y_O_1 y theta_O_1 para calcular la matriz de transformación\n",
    "T_O_1 = Tij(x_O_1, y_O_1, theta_O_1)\n",
    "\n",
    "# Mostrar la matriz resultante de la transformación\n",
    "T_O_1\n",
    "\n",
    "\n"
   ]
  },
  {
   "cell_type": "code",
   "execution_count": 28,
   "id": "03015e95-0465-48c4-8864-abecf25ba658",
   "metadata": {},
   "outputs": [
    {
     "data": {
      "text/latex": [
       "$\\displaystyle \\left[\\begin{matrix}\\cos{\\left(\\theta_{1 2} \\right)} & - \\sin{\\left(\\theta_{1 2} \\right)} & 0 & L_{1}\\\\\\sin{\\left(\\theta_{1 2} \\right)} & \\cos{\\left(\\theta_{1 2} \\right)} & 0 & 0\\\\0 & 0 & 1 & 0\\\\0 & 0 & 0 & 1\\end{matrix}\\right]$"
      ],
      "text/plain": [
       "Matrix([\n",
       "[cos(theta_1_2), -sin(theta_1_2), 0, L_1],\n",
       "[sin(theta_1_2),  cos(theta_1_2), 0,   0],\n",
       "[             0,               0, 1,   0],\n",
       "[             0,               0, 0,   1]])"
      ]
     },
     "execution_count": 28,
     "metadata": {},
     "output_type": "execute_result"
    }
   ],
   "source": [
    "# Importar la librería SymPy, que nos permitirá trabajar con álgebra simbólica y matrices\n",
    "import sympy as sp\n",
    "\n",
    "# Definir las variables simbólicas que se utilizarán en la matriz de transformación\n",
    "# L_1: Longitud del eslabón entre los sistemas de coordenadas (traslación en el eje X)\n",
    "# theta_1_2: Ángulo de rotación alrededor del eje Z entre los dos marcos de referencia\n",
    "L_1, theta_1_2 = sp.symbols('L_1 theta_1_2')\n",
    "\n",
    "# Definir la función Tij para calcular la matriz de transformación homogénea 4x4\n",
    "# Esta función genera la matriz que describe la relación entre dos marcos de referencia, teniendo en cuenta la rotación sobre el eje Z y la traslación en el eje X\n",
    "def Tij(x, y, theta):\n",
    "    # La matriz 4x4 de transformación homogénea, que incluye:\n",
    "    # - Rotación sobre el eje Z\n",
    "    # - Traslación en el eje X (L_1)\n",
    "    # - Sin traslación en el eje Y ni Z (en este caso)\n",
    "    # - Fila de homogeneidad [0, 0, 0, 1] para asegurar la correcta forma de la matriz de transformación homogénea\n",
    "    return sp.Matrix([\n",
    "        # Primera fila: describe la rotación en Z y la traslación en X\n",
    "        # Coseno y seno de theta para la rotación en el eje Z\n",
    "        [sp.cos(theta), -sp.sin(theta), 0, x],  # Coseno y -seno de theta son los componentes de la rotación\n",
    "        # Segunda fila: describe la rotación en Z y la traslación en Y\n",
    "        # Sin y coseno de theta para la rotación en el eje Z\n",
    "        [sp.sin(theta), sp.cos(theta), 0, y],   # Sin y coseno de theta para la rotación en el eje Y\n",
    "        # Tercera fila: no hay traslación en Z\n",
    "        [0, 0, 1, 0],                          # La rotación en Z no afecta a Z (por lo que es 1) y no hay traslación en Z\n",
    "        # Cuarta fila: fila de homogeneidad para mantener la estructura de transformación homogénea 4x4\n",
    "        [0, 0, 0, 1]                           # Esta fila asegura que la matriz es homogénea y válida para transformaciones 3D\n",
    "    ])\n",
    "\n",
    "# Calcular la matriz T_1_2 con las variables específicas\n",
    "# Llamamos a la función Tij para calcular la matriz de transformación entre los marcos 1 y 2\n",
    "# En este caso, la traslación en Y es 0 (no hay desplazamiento en Y), y la rotación es theta_1_2\n",
    "T_1_2 = Tij(L_1, 0, theta_1_2)\n",
    "\n",
    "# Mostrar la matriz resultante\n",
    "# Al imprimir T_1_2, obtenemos la matriz de transformación homogénea que describe la relación entre los marcos 1 y 2\n",
    "T_1_2\n"
   ]
  },
  {
   "cell_type": "code",
   "execution_count": 32,
   "id": "28811e23-3cec-46b5-b937-7628872914ee",
   "metadata": {},
   "outputs": [
    {
     "data": {
      "text/latex": [
       "$\\displaystyle \\left[\\begin{matrix}\\cos{\\left(\\theta_{2 3} \\right)} & - \\sin{\\left(\\theta_{2 3} \\right)} & 0 & L_{2}\\\\\\sin{\\left(\\theta_{2 3} \\right)} & \\cos{\\left(\\theta_{2 3} \\right)} & 0 & 0\\\\0 & 0 & 1 & 0\\\\0 & 0 & 0 & 1\\end{matrix}\\right]$"
      ],
      "text/plain": [
       "Matrix([\n",
       "[cos(theta_2_3), -sin(theta_2_3), 0, L_2],\n",
       "[sin(theta_2_3),  cos(theta_2_3), 0,   0],\n",
       "[             0,               0, 1,   0],\n",
       "[             0,               0, 0,   1]])"
      ]
     },
     "execution_count": 32,
     "metadata": {},
     "output_type": "execute_result"
    }
   ],
   "source": [
    "# Importar la librería SymPy, que nos permitirá trabajar con álgebra simbólica y matrices\n",
    "import sympy as sp\n",
    "\n",
    "# Definir las variables simbólicas necesarias para la matriz de transformación\n",
    "# L_2: Longitud del eslabón entre los sistemas de coordenadas 2 y 3 (traslación en el eje X)\n",
    "# theta_2_3: Ángulo de rotación alrededor del eje Z entre los sistemas de coordenadas 2 y 3\n",
    "L_2, theta_2_3 = sp.symbols('L_2 theta_2_3')\n",
    "\n",
    "# Definir la función Tij para calcular la matriz de transformación homogénea 4x4\n",
    "# La función Tij genera una matriz de transformación homogénea que describe cómo un sistema de coordenadas\n",
    "# se transforma en relación a otro, considerando tanto rotación como traslación.\n",
    "def Tij(x, y, z, alpha, beta, gamma):\n",
    "    # La matriz resultante es de 4x4 y tiene los siguientes componentes:\n",
    "    return sp.Matrix([\n",
    "        # Primera fila: describe la rotación en Z (coseno y seno de alpha) y la traslación en X (L_2)\n",
    "        [sp.cos(alpha), -sp.sin(alpha), 0, x],  # Coseno y -seno de theta para la rotación en Z\n",
    "        # Segunda fila: describe la rotación en Z (sin y coseno de alpha) y la traslación en Y (0 en este caso)\n",
    "        [sp.sin(alpha), sp.cos(alpha), 0, y],   # Sin y coseno de theta para la rotación en Z\n",
    "        # Tercera fila: describe la rotación en Z, sin traslación en Z (por lo que la traslación es 0)\n",
    "        [0, 0, 1, z],                          # La traslación en Z es 0, solo hay rotación en Z\n",
    "        # Cuarta fila: fila de homogeneidad para asegurar que la matriz es homogénea y válida para transformaciones 3D\n",
    "        [0, 0, 0, 1]                           # Fila de homogeneidad, necesaria en una matriz de transformación homogénea\n",
    "    ])\n",
    "\n",
    "# Calcular la matriz T_2_3 con las variables específicas\n",
    "# Llamamos a la función Tij para calcular la matriz de transformación entre los marcos 2 y 3.\n",
    "# En este caso, la traslación en Y y Z es 0, la traslación en X es L_2, y la rotación es theta_2_3\n",
    "T_2_3 = Tij(L_2, 0, 0, theta_2_3, 0, 0)\n",
    "\n",
    "# Mostrar la matriz resultante\n",
    "# Al imprimir T_2_3, obtenemos la matriz de transformación homogénea que describe cómo el sistema de coordenadas 3\n",
    "# se posiciona y orienta en relación con el sistema de coordenadas 2, tomando en cuenta la traslación en X y la rotación en Z\n",
    "T_2_3\n",
    "\n"
   ]
  },
  {
   "cell_type": "code",
   "execution_count": 34,
   "id": "f15216a0-8fb9-44b1-b1e2-74c851341361",
   "metadata": {},
   "outputs": [
    {
     "data": {
      "text/latex": [
       "$\\displaystyle \\left[\\begin{matrix}1 & 0 & 0 & L_{3}\\\\0 & 1 & 0 & 0\\\\0 & 0 & 1 & 0\\\\0 & 0 & 0 & 1\\end{matrix}\\right]$"
      ],
      "text/plain": [
       "Matrix([\n",
       "[1, 0, 0, L_3],\n",
       "[0, 1, 0,   0],\n",
       "[0, 0, 1,   0],\n",
       "[0, 0, 0,   1]])"
      ]
     },
     "execution_count": 34,
     "metadata": {},
     "output_type": "execute_result"
    }
   ],
   "source": [
    "# Definir la matriz Tij para la transformación homogénea\n",
    "# En este caso, estamos generando una matriz de transformación homogénea que describe un desplazamiento lineal\n",
    "# desde el tercer eslabón hasta el efector final, sin rotación adicional.\n",
    "# L_3: Longitud del desplazamiento entre el tercer eslabón y el efector final (traslación en el eje X).\n",
    "# No hay rotación en los ejes Y ni Z, por lo que esos valores son 0.\n",
    "# La rotación en el eje X también es 0, ya que solo estamos considerando un desplazamiento lineal sin rotación.\n",
    "T_3_P = Tij(L_3, 0, 0, 0, 0, 0)\n",
    "\n",
    "# Mostrar la matriz resultante\n",
    "# Al imprimir T_3_P, obtenemos la matriz de transformación homogénea entre el tercer eslabón y el efector final.\n",
    "# Esta matriz refleja el desplazamiento en el eje X por una longitud de L_3 sin ninguna rotación involucrada.\n",
    "T_3_P\n",
    "\n"
   ]
  },
  {
   "cell_type": "markdown",
   "id": "b43ac92d-f0b9-4346-91f1-52e26a88345e",
   "metadata": {},
   "source": [
    "### CÁLCULO DE LA TRANSFORMACIÓN "
   ]
  },
  {
   "cell_type": "markdown",
   "id": "f56f105e-e920-4e25-af29-c428aacafec3",
   "metadata": {},
   "source": [
    "La transformación completa desde el sistema base 𝑂 hasta el efector final 𝑃 se calcula mediante la multiplicación en secuencia de todas las matrices de transformación previas, lo que da como resultado la matriz T_0P."
   ]
  },
  {
   "cell_type": "code",
   "execution_count": 35,
   "id": "98c5519a-3959-4d6a-9fe6-06c4eb9d061d",
   "metadata": {},
   "outputs": [
    {
     "data": {
      "text/latex": [
       "$\\displaystyle \\left[\\begin{matrix}\\cos{\\left(\\theta_{1 2} + \\theta_{2 3} + \\theta_{O 1} \\right)} & - \\sin{\\left(\\theta_{1 2} + \\theta_{2 3} + \\theta_{O 1} \\right)} & 0 & L_{1} \\cos{\\left(\\theta_{O 1} \\right)} + L_{2} \\cos{\\left(\\theta_{1 2} + \\theta_{O 1} \\right)} + L_{3} \\cos{\\left(\\theta_{1 2} + \\theta_{2 3} + \\theta_{O 1} \\right)} + x_{O 1}\\\\\\sin{\\left(\\theta_{1 2} + \\theta_{2 3} + \\theta_{O 1} \\right)} & \\cos{\\left(\\theta_{1 2} + \\theta_{2 3} + \\theta_{O 1} \\right)} & 0 & L_{1} \\sin{\\left(\\theta_{O 1} \\right)} + L_{2} \\sin{\\left(\\theta_{1 2} + \\theta_{O 1} \\right)} + L_{3} \\sin{\\left(\\theta_{1 2} + \\theta_{2 3} + \\theta_{O 1} \\right)} + y_{O 1}\\\\0 & 0 & 1 & 0\\\\0 & 0 & 0 & 1\\end{matrix}\\right]$"
      ],
      "text/plain": [
       "Matrix([\n",
       "[cos(theta_1_2 + theta_2_3 + theta_O_1), -sin(theta_1_2 + theta_2_3 + theta_O_1), 0, L_1*cos(theta_O_1) + L_2*cos(theta_1_2 + theta_O_1) + L_3*cos(theta_1_2 + theta_2_3 + theta_O_1) + x_O_1],\n",
       "[sin(theta_1_2 + theta_2_3 + theta_O_1),  cos(theta_1_2 + theta_2_3 + theta_O_1), 0, L_1*sin(theta_O_1) + L_2*sin(theta_1_2 + theta_O_1) + L_3*sin(theta_1_2 + theta_2_3 + theta_O_1) + y_O_1],\n",
       "[                                     0,                                       0, 1,                                                                                                        0],\n",
       "[                                     0,                                       0, 0,                                                                                                        1]])"
      ]
     },
     "execution_count": 35,
     "metadata": {},
     "output_type": "execute_result"
    }
   ],
   "source": [
    "# Importar SymPy para trabajar con álgebra simbólica y manipulación de matrices\n",
    "import sympy as sp\n",
    "\n",
    "# Asegúrate de que 'simplify' esté disponible para simplificar la matriz resultante\n",
    "# La función 'simplify' se utiliza para simplificar la expresión matemática de la matriz resultante\n",
    "# En este caso, estamos multiplicando las matrices T_O_1, T_1_2, T_2_3 y T_3_P en secuencia.\n",
    "# Cada una de estas matrices representa una transformación entre los marcos de referencia.\n",
    "# La multiplicación sucesiva de matrices de transformación nos da la matriz total T_O_P,\n",
    "# que describe la transformación del sistema base O al efector final P.\n",
    "T_O_P = sp.simplify(T_O_1 * T_1_2 * T_2_3 * T_3_P)\n",
    "\n",
    "# Mostrar la matriz resultante\n",
    "# Al imprimir T_O_P, obtenemos la matriz final que describe cómo el sistema de coordenadas\n",
    "# del efector final P se encuentra en relación con el sistema base O, teniendo en cuenta\n",
    "# todas las transformaciones intermedias entre los marcos de referencia.\n",
    "T_O_P\n",
    "\n"
   ]
  },
  {
   "cell_type": "markdown",
   "id": "bce058e4-ff9a-4316-90c1-04acbd6efb36",
   "metadata": {},
   "source": [
    "### VECTOR DE POSTURA \n",
    "\n"
   ]
  },
  {
   "cell_type": "code",
   "execution_count": 36,
   "id": "bd0cb8ee-5ad6-42a5-aa01-8c860b5d2bda",
   "metadata": {},
   "outputs": [
    {
     "data": {
      "text/latex": [
       "$\\displaystyle \\left[\\begin{matrix}L_{1} \\cos{\\left(\\theta_{O 1} \\right)} + L_{2} \\cos{\\left(\\theta_{1 2} + \\theta_{O 1} \\right)} + L_{3} \\cos{\\left(\\theta_{1 2} + \\theta_{2 3} + \\theta_{O 1} \\right)} + x_{O 1}\\\\L_{1} \\sin{\\left(\\theta_{O 1} \\right)} + L_{2} \\sin{\\left(\\theta_{1 2} + \\theta_{O 1} \\right)} + L_{3} \\sin{\\left(\\theta_{1 2} + \\theta_{2 3} + \\theta_{O 1} \\right)} + y_{O 1}\\\\\\theta_{1 2} + \\theta_{2 3} + \\theta_{O 1}\\end{matrix}\\right]$"
      ],
      "text/plain": [
       "Matrix([\n",
       "[L_1*cos(theta_O_1) + L_2*cos(theta_1_2 + theta_O_1) + L_3*cos(theta_1_2 + theta_2_3 + theta_O_1) + x_O_1],\n",
       "[L_1*sin(theta_O_1) + L_2*sin(theta_1_2 + theta_O_1) + L_3*sin(theta_1_2 + theta_2_3 + theta_O_1) + y_O_1],\n",
       "[                                                                       theta_1_2 + theta_2_3 + theta_O_1]])"
      ]
     },
     "execution_count": 36,
     "metadata": {},
     "output_type": "execute_result"
    }
   ],
   "source": [
    "# Definir el vector xi_O_P usando los elementos de la matriz T_O_P\n",
    "# El vector xi_O_P contiene la información de la posición y orientación del efector final\n",
    "# Extrayendo los valores relevantes de la matriz T_O_P:\n",
    "# - T_O_P[0, 3]: El valor en la posición (0, 3) de la matriz T_O_P es la coordenada 'x' del efector final (traslación en X).\n",
    "# - T_O_P[1, 3]: El valor en la posición (1, 3) de la matriz T_O_P es la coordenada 'y' del efector final (traslación en Y).\n",
    "# - theta_O_1 + theta_1_2 + theta_2_3: La orientación del efector final es la suma de los tres ángulos articulares, que nos da el ángulo total\n",
    "#   de rotación alrededor del eje Z.\n",
    "xi_O_P = sp.Matrix([T_O_P[0, 3], T_O_P[1, 3], theta_O_1 + theta_1_2 + theta_2_3])\n",
    "\n",
    "# Mostrar el vector xi_O_P\n",
    "# El vector xi_O_P contiene la posición (x, y) y la orientación (la suma de los ángulos articulares) del efector final\n",
    "# Este vector es una representación compacta de la postura del efector final en el sistema base.\n",
    "xi_O_P\n",
    "\n"
   ]
  },
  {
   "cell_type": "markdown",
   "id": "70c30b47-cf08-47fc-bb10-8c14d6b1cebb",
   "metadata": {},
   "source": [
    "- El primer término del vector describe la posición en el eje x, donde x_0,1 indica la coordenada horizontal del origen del primer eslabón, y el término Lcos(θ) representa la proyección en X del avance de cada eslabón a lo largo de su ángulo respectivo.\n",
    "- El segundo término se refiere a la posición en el eje y, donde y_0,1 denota la coordenada vertical del origen del primer eslabón, y los términos que incluyen Lsen(θ) representan el desplazamiento en Y resultante del avance de los eslabones a medida que varía el ángulo compuesto.\n",
    "- El tercer término del vector representa la orientación total del efector final, que es la suma de los tres ángulos articulares. Esta suma define la rotación acumulada del efector final en relación con la base.\n"
   ]
  },
  {
   "cell_type": "markdown",
   "id": "f1018358-aa8e-4d72-b8cb-88ba27bbcdf0",
   "metadata": {},
   "source": [
    " \n",
    "1.\tDeterminar la distancia radial desde el origen hasta el punto objetivo deseado:\n"
   ]
  },
  {
   "cell_type": "markdown",
   "id": "e93b97a3-5678-4d77-b719-910d23d7c255",
   "metadata": {},
   "source": [
    "$r = \\sqrt{x_d^2 + y_d^2}$"
   ]
  },
  {
   "cell_type": "markdown",
   "id": "f03ef13f-dfe5-4ac1-94d4-1853dc734210",
   "metadata": {},
   "source": [
    "2. Determinar el segundo ángulo articular (θ_2) aplicando la ley de los cosenos:"
   ]
  },
  {
   "cell_type": "markdown",
   "id": "3b54f888-691f-43c1-8435-450829dca500",
   "metadata": {},
   "source": [
    "$\\theta_2 = \\arccos{\\left(\\frac{r^2 - L_1^2 - L_2^2}{2 L_1 L_2}\\right)}$\n"
   ]
  },
  {
   "cell_type": "markdown",
   "id": "56970bc6-a3ad-4941-9299-1908ba841cc3",
   "metadata": {},
   "source": [
    "3. Determinar el primer ángulo articular (θ_1):"
   ]
  },
  {
   "cell_type": "markdown",
   "id": "c37cc41f-e890-4d57-bb1c-13b4467ca451",
   "metadata": {},
   "source": [
    "$\\theta_1 = \\arctan{\\left(\\frac{y_d}{x_d}\\right)} - \\arctan{\\left(\\frac{L_2 \\sin(\\theta_2)}{L_1 + L_2 \\cos(\\theta_2)}\\right)}$\n"
   ]
  },
  {
   "cell_type": "markdown",
   "id": "0b1b4146-ccaf-4cd9-816f-90faa5836323",
   "metadata": {},
   "source": [
    "4. Por último, el tercer ángulo se calcula de la siguiente manera:"
   ]
  },
  {
   "cell_type": "markdown",
   "id": "01786436-010f-4cce-9b48-09590351ac44",
   "metadata": {},
   "source": [
    "$\\theta_3 = \\theta_3 - \\theta_2 - \\theta_1$"
   ]
  },
  {
   "cell_type": "markdown",
   "id": "69452b99-211c-43be-92bb-2156db78bd2e",
   "metadata": {},
   "source": [
    "### MODELADO CINEMATICO DE LAS VELOCIDADES.\n",
    "\n",
    "\n",
    "Una vez obtenido el vector de postura ξ_0^P, pasamos a calcular la relación entre las velocidades articulares y la velocidad del efector final mediante el Jacobiano. Este mapea la velocidad angular de las articulaciones hacia la velocidad lineal y angular del efector.\n",
    "La matriz Jacobiana se define como la derivada del vector de postura con respecto a los ángulos articulares, lo que da como resultado la matriz J(θ). Esta matriz establece la relación entre la velocidad de las articulaciones y la velocidad del efector final, de acuerdo con:\n"
   ]
  },
  {
   "cell_type": "markdown",
   "id": "0e39ceb2-58c5-48b2-85d8-7df42cc3e958",
   "metadata": {},
   "source": [
    "### JACOBIANO\n",
    "\n",
    "La conexión entre las velocidades articulares y la velocidad del efector final se expresa mediante la ecuación del Jacobiano, de la siguiente manera:\n",
    "\n",
    "$$\n",
    "\\dot{\\xi}_0^P = J(\\theta) \\cdot \\dot{\\theta}\n",
    "$$\n",
    "\n",
    "Donde:\n",
    "- $\\dot{\\xi}_0^P$ representa el vector de velocidades del efector final, que incluye las velocidades en $x$, $y$ y orientación.\n",
    "- $\\dot{\\theta}$ representa el vector de velocidades articulares."
   ]
  },
  {
   "cell_type": "code",
   "execution_count": 37,
   "id": "9554b02c-995f-4f6a-bbd3-1385c9e37d60",
   "metadata": {},
   "outputs": [
    {
     "data": {
      "text/latex": [
       "$\\displaystyle \\left[\\begin{matrix}- L_{1} \\sin{\\left(\\theta_{O 1} \\right)} - L_{2} \\sin{\\left(\\theta_{1 2} + \\theta_{O 1} \\right)} - L_{3} \\sin{\\left(\\theta_{1 2} + \\theta_{2 3} + \\theta_{O 1} \\right)} & - L_{2} \\sin{\\left(\\theta_{1 2} + \\theta_{O 1} \\right)} - L_{3} \\sin{\\left(\\theta_{1 2} + \\theta_{2 3} + \\theta_{O 1} \\right)} & - L_{3} \\sin{\\left(\\theta_{1 2} + \\theta_{2 3} + \\theta_{O 1} \\right)}\\\\L_{1} \\cos{\\left(\\theta_{O 1} \\right)} + L_{2} \\cos{\\left(\\theta_{1 2} + \\theta_{O 1} \\right)} + L_{3} \\cos{\\left(\\theta_{1 2} + \\theta_{2 3} + \\theta_{O 1} \\right)} & L_{2} \\cos{\\left(\\theta_{1 2} + \\theta_{O 1} \\right)} + L_{3} \\cos{\\left(\\theta_{1 2} + \\theta_{2 3} + \\theta_{O 1} \\right)} & L_{3} \\cos{\\left(\\theta_{1 2} + \\theta_{2 3} + \\theta_{O 1} \\right)}\\\\1 & 1 & 1\\end{matrix}\\right]$"
      ],
      "text/plain": [
       "Matrix([\n",
       "[-L_1*sin(theta_O_1) - L_2*sin(theta_1_2 + theta_O_1) - L_3*sin(theta_1_2 + theta_2_3 + theta_O_1), -L_2*sin(theta_1_2 + theta_O_1) - L_3*sin(theta_1_2 + theta_2_3 + theta_O_1), -L_3*sin(theta_1_2 + theta_2_3 + theta_O_1)],\n",
       "[ L_1*cos(theta_O_1) + L_2*cos(theta_1_2 + theta_O_1) + L_3*cos(theta_1_2 + theta_2_3 + theta_O_1),  L_2*cos(theta_1_2 + theta_O_1) + L_3*cos(theta_1_2 + theta_2_3 + theta_O_1),  L_3*cos(theta_1_2 + theta_2_3 + theta_O_1)],\n",
       "[                                                                                                1,                                                                            1,                                           1]])"
      ]
     },
     "execution_count": 37,
     "metadata": {},
     "output_type": "execute_result"
    }
   ],
   "source": [
    "# Importar la librería SymPy, que nos permitirá trabajar con álgebra simbólica y manipulación de matrices\n",
    "import sympy as sp\n",
    "\n",
    "# Definir las variables simbólicas que se utilizarán en la matriz y los cálculos\n",
    "# x_O_1, y_O_1: Coordenadas de la posición del primer eslabón en el sistema de referencia base\n",
    "# theta_O_1: Ángulo de rotación del primer eslabón\n",
    "# L_2, L_3, L_1: Longitudes de los eslabones del robot\n",
    "# theta_1_2, theta_2_3: Ángulos articulares entre los eslabones\n",
    "x_O_1, y_O_1, theta_O_1, L_2, theta_1_2, L_3, theta_2_3, L_1 = sp.symbols('x_O_1 y_O_1 theta_O_1 L_2 theta_1_2 L_3 theta_2_3 L_1')\n",
    "\n",
    "# Definir el vector de postura xi_O_P\n",
    "# xi_O_P contiene la posición y orientación del efector final, donde:\n",
    "# T_O_P[0, 3] es la coordenada X del efector final (traslación en X)\n",
    "# T_O_P[1, 3] es la coordenada Y del efector final (traslación en Y)\n",
    "# theta_O_1 + theta_1_2 + theta_2_3 es la orientación total (suma de los tres ángulos articulares)\n",
    "xi_O_P = sp.Matrix([T_O_P[0, 3], T_O_P[1, 3], theta_O_1 + theta_1_2 + theta_2_3])\n",
    "\n",
    "# Calcular la matriz Jacobiana\n",
    "# La matriz Jacobiana nos permite relacionar las velocidades articulares con la velocidad del efector final.\n",
    "# Se obtiene tomando la derivada del vector de postura con respecto a los ángulos articulares\n",
    "# Esto se realiza para cada componente del vector xi_O_P respecto a los ángulos theta_O_1, theta_1_2 y theta_2_3.\n",
    "J_theta = sp.Matrix([[sp.diff(xi_O_P[i], var) for var in [theta_O_1, theta_1_2, theta_2_3]] for i in range(len(xi_O_P))])\n",
    "\n",
    "# Mostrar la matriz Jacobiana\n",
    "# Al imprimir J_theta, obtenemos la matriz que relaciona las velocidades articulares con la velocidad del efector final\n",
    "J_theta\n",
    "\n"
   ]
  },
  {
   "cell_type": "code",
   "execution_count": 38,
   "id": "a9746a53-0889-4a82-afe0-ce850e1c9fb0",
   "metadata": {},
   "outputs": [
    {
     "data": {
      "text/latex": [
       "$\\displaystyle \\left[\\begin{matrix}\\frac{\\cos{\\left(\\theta_{1 2} + \\theta_{O 1} \\right)}}{- L_{1} \\sin{\\left(\\theta_{O 1} \\right)} \\cos{\\left(\\theta_{1 2} + \\theta_{O 1} \\right)} + L_{1} \\sin{\\left(\\theta_{1 2} + \\theta_{O 1} \\right)} \\cos{\\left(\\theta_{O 1} \\right)}} & \\frac{\\sin{\\left(\\theta_{1 2} + \\theta_{O 1} \\right)}}{- L_{1} \\sin{\\left(\\theta_{O 1} \\right)} \\cos{\\left(\\theta_{1 2} + \\theta_{O 1} \\right)} + L_{1} \\sin{\\left(\\theta_{1 2} + \\theta_{O 1} \\right)} \\cos{\\left(\\theta_{O 1} \\right)}} & \\frac{- L_{3} \\sin{\\left(\\theta_{1 2} + \\theta_{O 1} \\right)} \\cos{\\left(\\theta_{1 2} + \\theta_{2 3} + \\theta_{O 1} \\right)} + L_{3} \\sin{\\left(\\theta_{1 2} + \\theta_{2 3} + \\theta_{O 1} \\right)} \\cos{\\left(\\theta_{1 2} + \\theta_{O 1} \\right)}}{- L_{1} \\sin{\\left(\\theta_{O 1} \\right)} \\cos{\\left(\\theta_{1 2} + \\theta_{O 1} \\right)} + L_{1} \\sin{\\left(\\theta_{1 2} + \\theta_{O 1} \\right)} \\cos{\\left(\\theta_{O 1} \\right)}}\\\\\\frac{- L_{1} \\cos{\\left(\\theta_{O 1} \\right)} - L_{2} \\cos{\\left(\\theta_{1 2} + \\theta_{O 1} \\right)}}{- L_{1} L_{2} \\sin{\\left(\\theta_{O 1} \\right)} \\cos{\\left(\\theta_{1 2} + \\theta_{O 1} \\right)} + L_{1} L_{2} \\sin{\\left(\\theta_{1 2} + \\theta_{O 1} \\right)} \\cos{\\left(\\theta_{O 1} \\right)}} & \\frac{- L_{1} \\sin{\\left(\\theta_{O 1} \\right)} - L_{2} \\sin{\\left(\\theta_{1 2} + \\theta_{O 1} \\right)}}{- L_{1} L_{2} \\sin{\\left(\\theta_{O 1} \\right)} \\cos{\\left(\\theta_{1 2} + \\theta_{O 1} \\right)} + L_{1} L_{2} \\sin{\\left(\\theta_{1 2} + \\theta_{O 1} \\right)} \\cos{\\left(\\theta_{O 1} \\right)}} & \\frac{L_{1} L_{3} \\sin{\\left(\\theta_{O 1} \\right)} \\cos{\\left(\\theta_{1 2} + \\theta_{2 3} + \\theta_{O 1} \\right)} - L_{1} L_{3} \\sin{\\left(\\theta_{1 2} + \\theta_{2 3} + \\theta_{O 1} \\right)} \\cos{\\left(\\theta_{O 1} \\right)} + L_{2} L_{3} \\sin{\\left(\\theta_{1 2} + \\theta_{O 1} \\right)} \\cos{\\left(\\theta_{1 2} + \\theta_{2 3} + \\theta_{O 1} \\right)} - L_{2} L_{3} \\sin{\\left(\\theta_{1 2} + \\theta_{2 3} + \\theta_{O 1} \\right)} \\cos{\\left(\\theta_{1 2} + \\theta_{O 1} \\right)}}{- L_{1} L_{2} \\sin{\\left(\\theta_{O 1} \\right)} \\cos{\\left(\\theta_{1 2} + \\theta_{O 1} \\right)} + L_{1} L_{2} \\sin{\\left(\\theta_{1 2} + \\theta_{O 1} \\right)} \\cos{\\left(\\theta_{O 1} \\right)}}\\\\- \\frac{\\cos{\\left(\\theta_{O 1} \\right)}}{L_{2} \\sin{\\left(\\theta_{O 1} \\right)} \\cos{\\left(\\theta_{1 2} + \\theta_{O 1} \\right)} - L_{2} \\sin{\\left(\\theta_{1 2} + \\theta_{O 1} \\right)} \\cos{\\left(\\theta_{O 1} \\right)}} & - \\frac{\\sin{\\left(\\theta_{O 1} \\right)}}{L_{2} \\sin{\\left(\\theta_{O 1} \\right)} \\cos{\\left(\\theta_{1 2} + \\theta_{O 1} \\right)} - L_{2} \\sin{\\left(\\theta_{1 2} + \\theta_{O 1} \\right)} \\cos{\\left(\\theta_{O 1} \\right)}} & \\frac{L_{2} \\sin{\\left(\\theta_{O 1} \\right)} \\cos{\\left(\\theta_{1 2} + \\theta_{O 1} \\right)} - L_{2} \\sin{\\left(\\theta_{1 2} + \\theta_{O 1} \\right)} \\cos{\\left(\\theta_{O 1} \\right)} + L_{3} \\sin{\\left(\\theta_{O 1} \\right)} \\cos{\\left(\\theta_{1 2} + \\theta_{2 3} + \\theta_{O 1} \\right)} - L_{3} \\sin{\\left(\\theta_{1 2} + \\theta_{2 3} + \\theta_{O 1} \\right)} \\cos{\\left(\\theta_{O 1} \\right)}}{L_{2} \\sin{\\left(\\theta_{O 1} \\right)} \\cos{\\left(\\theta_{1 2} + \\theta_{O 1} \\right)} - L_{2} \\sin{\\left(\\theta_{1 2} + \\theta_{O 1} \\right)} \\cos{\\left(\\theta_{O 1} \\right)}}\\end{matrix}\\right]$"
      ],
      "text/plain": [
       "Matrix([\n",
       "[                                    cos(theta_1_2 + theta_O_1)/(-L_1*sin(theta_O_1)*cos(theta_1_2 + theta_O_1) + L_1*sin(theta_1_2 + theta_O_1)*cos(theta_O_1)),                                     sin(theta_1_2 + theta_O_1)/(-L_1*sin(theta_O_1)*cos(theta_1_2 + theta_O_1) + L_1*sin(theta_1_2 + theta_O_1)*cos(theta_O_1)),                                                                                                                                                (-L_3*sin(theta_1_2 + theta_O_1)*cos(theta_1_2 + theta_2_3 + theta_O_1) + L_3*sin(theta_1_2 + theta_2_3 + theta_O_1)*cos(theta_1_2 + theta_O_1))/(-L_1*sin(theta_O_1)*cos(theta_1_2 + theta_O_1) + L_1*sin(theta_1_2 + theta_O_1)*cos(theta_O_1))],\n",
       "[(-L_1*cos(theta_O_1) - L_2*cos(theta_1_2 + theta_O_1))/(-L_1*L_2*sin(theta_O_1)*cos(theta_1_2 + theta_O_1) + L_1*L_2*sin(theta_1_2 + theta_O_1)*cos(theta_O_1)), (-L_1*sin(theta_O_1) - L_2*sin(theta_1_2 + theta_O_1))/(-L_1*L_2*sin(theta_O_1)*cos(theta_1_2 + theta_O_1) + L_1*L_2*sin(theta_1_2 + theta_O_1)*cos(theta_O_1)), (L_1*L_3*sin(theta_O_1)*cos(theta_1_2 + theta_2_3 + theta_O_1) - L_1*L_3*sin(theta_1_2 + theta_2_3 + theta_O_1)*cos(theta_O_1) + L_2*L_3*sin(theta_1_2 + theta_O_1)*cos(theta_1_2 + theta_2_3 + theta_O_1) - L_2*L_3*sin(theta_1_2 + theta_2_3 + theta_O_1)*cos(theta_1_2 + theta_O_1))/(-L_1*L_2*sin(theta_O_1)*cos(theta_1_2 + theta_O_1) + L_1*L_2*sin(theta_1_2 + theta_O_1)*cos(theta_O_1))],\n",
       "[                                                -cos(theta_O_1)/(L_2*sin(theta_O_1)*cos(theta_1_2 + theta_O_1) - L_2*sin(theta_1_2 + theta_O_1)*cos(theta_O_1)),                                                 -sin(theta_O_1)/(L_2*sin(theta_O_1)*cos(theta_1_2 + theta_O_1) - L_2*sin(theta_1_2 + theta_O_1)*cos(theta_O_1)),                                                                          (L_2*sin(theta_O_1)*cos(theta_1_2 + theta_O_1) - L_2*sin(theta_1_2 + theta_O_1)*cos(theta_O_1) + L_3*sin(theta_O_1)*cos(theta_1_2 + theta_2_3 + theta_O_1) - L_3*sin(theta_1_2 + theta_2_3 + theta_O_1)*cos(theta_O_1))/(L_2*sin(theta_O_1)*cos(theta_1_2 + theta_O_1) - L_2*sin(theta_1_2 + theta_O_1)*cos(theta_O_1))]])"
      ]
     },
     "execution_count": 38,
     "metadata": {},
     "output_type": "execute_result"
    }
   ],
   "source": [
    "# Calcular la inversa de la matriz Jacobiana\n",
    "# La matriz Jacobiana describe la relación entre las velocidades articulares y la velocidad del efector final.\n",
    "# Al calcular su inversa, obtenemos una matriz que permite obtener las velocidades articulares necesarias \n",
    "# para alcanzar una velocidad deseada del efector final. Esta operación es crucial para el control de movimientos.\n",
    "J_inv = J_theta.inv()\n",
    "\n",
    "# Mostrar la matriz inversa\n",
    "# Al imprimir J_inv, se obtiene la matriz inversa del Jacobiano, que es utilizada para calcular los valores de \n",
    "# las velocidades articulares a partir de la velocidad del efector final deseada.\n",
    "J_inv\n",
    "\n",
    "\n",
    "\n"
   ]
  },
  {
   "cell_type": "markdown",
   "id": "7e218c88-e8da-4359-b4ec-59a230934954",
   "metadata": {},
   "source": [
    "La matriz mostrada anteriormente corresponde al resultado del modelo de cinemática inversa de las velocidades, donde se determina el vector de velocidades articulares a partir de una velocidad objetivo del efector final. Las ecuaciones obtenidas son funciones racionales que dependen de los ángulos de las articulaciones y de las longitudes de los eslabones. Este modelo facilita la conversión de movimientos deseados en el espacio cartesiano a comandos de velocidad en el espacio de las articulaciones."
   ]
  },
  {
   "cell_type": "markdown",
   "id": "c558af74-8369-45f2-b4d2-2e6401ffbbf4",
   "metadata": {},
   "source": [
    "### MODELADO CINEMATICO DE LAS ACELERACIONES.\n",
    "\n",
    "En esta sección se aborda el modelo cinemático de las aceleraciones para el robot manipulador, tanto en su versión directa como inversa. Este modelo facilita el cálculo de las aceleraciones lineales y angulares del efector a partir de las aceleraciones en las articulaciones, o bien, permite determinar las aceleraciones articulares requeridas para lograr una aceleración deseada en el espacio cartesiano. Este análisis es esencial para el control dinámico del robot y para la simulación avanzada de sus movimientos."
   ]
  },
  {
   "cell_type": "code",
   "execution_count": 39,
   "id": "282cab56-9b54-42fc-8b5d-7bb3fcd5eddc",
   "metadata": {},
   "outputs": [
    {
     "name": "stdout",
     "output_type": "stream",
     "text": [
      "Vector theta:\n"
     ]
    },
    {
     "data": {
      "text/latex": [
       "$\\displaystyle \\left[\\begin{matrix}\\theta_{O 1}\\\\\\theta_{1 2}\\\\\\theta_{2 3}\\end{matrix}\\right]$"
      ],
      "text/plain": [
       "Matrix([\n",
       "[theta_O_1],\n",
       "[theta_1_2],\n",
       "[theta_2_3]])"
      ]
     },
     "metadata": {},
     "output_type": "display_data"
    },
    {
     "name": "stdout",
     "output_type": "stream",
     "text": [
      "Vector theta_dot:\n"
     ]
    },
    {
     "data": {
      "text/latex": [
       "$\\displaystyle \\left[\\begin{matrix}\\theta_{dot O 1}\\\\\\theta_{dot 1 2}\\\\\\theta_{dot 2 3}\\end{matrix}\\right]$"
      ],
      "text/plain": [
       "Matrix([\n",
       "[theta_dot_O_1],\n",
       "[theta_dot_1_2],\n",
       "[theta_dot_2_3]])"
      ]
     },
     "metadata": {},
     "output_type": "display_data"
    },
    {
     "name": "stdout",
     "output_type": "stream",
     "text": [
      "Vector theta_ddot:\n"
     ]
    },
    {
     "data": {
      "text/latex": [
       "$\\displaystyle \\left[\\begin{matrix}\\theta_{\\dot{d} O 1}\\\\\\theta_{\\dot{d} 1 2}\\\\\\theta_{\\dot{d} 2 3}\\end{matrix}\\right]$"
      ],
      "text/plain": [
       "Matrix([\n",
       "[theta_ddot_O_1],\n",
       "[theta_ddot_1_2],\n",
       "[theta_ddot_2_3]])"
      ]
     },
     "metadata": {},
     "output_type": "display_data"
    }
   ],
   "source": [
    "# Importar la librería SymPy para trabajar con álgebra simbólica\n",
    "import sympy as sp\n",
    "\n",
    "# Paso 1 - Definir las variables simbólicas necesarias\n",
    "# theta_O_1, theta_1_2, theta_2_3: Ángulos articulares de las tres articulaciones del robot\n",
    "# theta_dot_O_1, theta_dot_1_2, theta_dot_2_3: Velocidades angulares de las articulaciones, que son las derivadas de los ángulos articulares respecto al tiempo\n",
    "# theta_ddot_O_1, theta_ddot_1_2, theta_ddot_2_3: Aceleraciones angulares de las articulaciones, que son las derivadas de las velocidades angulares respecto al tiempo\n",
    "# L1, L2, L3: Longitudes de los eslabones del robot\n",
    "# x_O_1, y_O_1: Coordenadas del origen del primer eslabón en el sistema base\n",
    "theta_O_1, theta_1_2, theta_2_3 = sp.symbols('theta_O_1 theta_1_2 theta_2_3')\n",
    "theta_dot_O_1, theta_dot_1_2, theta_dot_2_3 = sp.symbols('theta_dot_O_1 theta_dot_1_2 theta_dot_2_3')\n",
    "theta_ddot_O_1, theta_ddot_1_2, theta_ddot_2_3 = sp.symbols('theta_ddot_O_1 theta_ddot_1_2 theta_ddot_2_3')\n",
    "L1, L2, L3, x_O_1, y_O_1 = sp.symbols('L1 L2 L3 x_O_1 y_O_1')\n",
    "\n",
    "# Paso 2 - Definir los vectores de las variables articulares, velocidades y aceleraciones\n",
    "# El vector 'theta' almacena los ángulos articulares\n",
    "# El vector 'theta_dot' almacena las velocidades angulares (derivadas de los ángulos)\n",
    "# El vector 'theta_ddot' almacena las aceleraciones angulares (derivadas de las velocidades)\n",
    "theta = sp.Matrix([theta_O_1, theta_1_2, theta_2_3])\n",
    "theta_dot = sp.Matrix([theta_dot_O_1, theta_dot_1_2, theta_dot_2_3])\n",
    "theta_ddot = sp.Matrix([theta_ddot_O_1, theta_ddot_1_2, theta_ddot_2_3])\n",
    "\n",
    "# Paso 3 - Mostrar el contenido de las matrices para verificar las variables definidas\n",
    "# El comando 'display' permite mostrar las matrices de forma más legible en entornos como Jupyter\n",
    "# Mostrar el vector de los ángulos articulares 'theta'\n",
    "print('Vector theta:')\n",
    "display(theta)\n",
    "\n",
    "# Mostrar el vector de las velocidades angulares 'theta_dot'\n",
    "print('Vector theta_dot:')\n",
    "display(theta_dot)\n",
    "\n",
    "# Mostrar el vector de las aceleraciones angulares 'theta_ddot'\n",
    "print('Vector theta_ddot:')\n",
    "display(theta_ddot)\n",
    "\n"
   ]
  },
  {
   "cell_type": "code",
   "execution_count": 45,
   "id": "8bdf4d2e-0203-4bb3-9172-139089540b7d",
   "metadata": {},
   "outputs": [
    {
     "data": {
      "text/latex": [
       "$\\displaystyle \\left[\\begin{matrix}L_{1} \\cos{\\left(\\theta_{O 1} \\right)} + L_{2} \\cos{\\left(\\theta_{1 2} + \\theta_{O 1} \\right)} + L_{3} \\cos{\\left(\\theta_{1 2} + \\theta_{2 3} + \\theta_{O 1} \\right)} + x_{O 1}\\\\L_{1} \\sin{\\left(\\theta_{O 1} \\right)} + L_{2} \\sin{\\left(\\theta_{1 2} + \\theta_{O 1} \\right)} + L_{3} \\sin{\\left(\\theta_{1 2} + \\theta_{2 3} + \\theta_{O 1} \\right)} + y_{O 1}\\\\\\theta_{1 2} + \\theta_{2 3} + \\theta_{O 1}\\end{matrix}\\right]$"
      ],
      "text/plain": [
       "Matrix([\n",
       "[L1*cos(theta_O_1) + L2*cos(theta_1_2 + theta_O_1) + L3*cos(theta_1_2 + theta_2_3 + theta_O_1) + x_O_1],\n",
       "[L1*sin(theta_O_1) + L2*sin(theta_1_2 + theta_O_1) + L3*sin(theta_1_2 + theta_2_3 + theta_O_1) + y_O_1],\n",
       "[                                                                    theta_1_2 + theta_2_3 + theta_O_1]])"
      ]
     },
     "execution_count": 45,
     "metadata": {},
     "output_type": "execute_result"
    }
   ],
   "source": [
    "# Importar la librería SymPy para trabajar con álgebra simbólica\n",
    "import sympy as sp\n",
    "\n",
    "# Definir las variables simbólicas que se utilizarán en la matriz y los cálculos\n",
    "# x_O_1, y_O_1: Coordenadas del origen del primer eslabón en el sistema de referencia base\n",
    "# theta_O_1, theta_1_2, theta_2_3: Ángulos articulares del robot\n",
    "# L1, L2, L3: Longitudes de los eslabones del robot\n",
    "x_O_1, y_O_1, theta_O_1, theta_1_2, theta_2_3, L1, L2, L3 = sp.symbols('x_O_1 y_O_1 theta_O_1 theta_1_2 theta_2_3 L1 L2 L3')\n",
    "\n",
    "# Calcular el vector de postura del efector\n",
    "# El vector 'xi_O_P' describe la posición y orientación del efector final en el sistema base.\n",
    "# - La primera componente es la posición en el eje X, que se obtiene sumando las contribuciones de las traslaciones de cada eslabón\n",
    "# - La segunda componente es la posición en el eje Y, que también se calcula sumando las contribuciones de los eslabones.\n",
    "# - La tercera componente es la orientación del efector final, que es la suma de los ángulos articulares.\n",
    "xi_O_P = sp.Matrix([\n",
    "    # Posición en el eje X: suma de las traslaciones de los eslabones y las rotaciones en sus respectivos ángulos\n",
    "    x_O_1 + L2 * sp.cos(theta_1_2 + theta_O_1) + L1 * sp.cos(theta_O_1) + L3 * sp.cos(theta_1_2 + theta_2_3 + theta_O_1),\n",
    "    # Posición en el eje Y: suma de las traslaciones de los eslabones y las rotaciones en sus respectivos ángulos\n",
    "    y_O_1 + L2 * sp.sin(theta_1_2 + theta_O_1) + L1 * sp.sin(theta_O_1) + L3 * sp.sin(theta_1_2 + theta_2_3 + theta_O_1),\n",
    "    # Orientación del efector final: la suma de los tres ángulos articulares\n",
    "    theta_O_1 + theta_1_2 + theta_2_3\n",
    "])\n",
    "\n",
    "# Mostrar el vector de postura xi_O_P\n",
    "# El vector 'xi_O_P' ahora contiene la posición y orientación del efector final en el sistema base, que se puede visualizar al imprimirlo.\n",
    "xi_O_P\n"
   ]
  },
  {
   "cell_type": "code",
   "execution_count": 41,
   "id": "710981bb-cb74-421b-8dd2-66af3e7147c3",
   "metadata": {},
   "outputs": [
    {
     "data": {
      "text/latex": [
       "$\\displaystyle \\left[\\begin{matrix}- L_{1} \\sin{\\left(\\theta_{O 1} \\right)} - L_{2} \\sin{\\left(\\theta_{1 2} + \\theta_{O 1} \\right)} - L_{3} \\sin{\\left(\\theta_{1 2} + \\theta_{2 3} + \\theta_{O 1} \\right)} & - L_{2} \\sin{\\left(\\theta_{1 2} + \\theta_{O 1} \\right)} - L_{3} \\sin{\\left(\\theta_{1 2} + \\theta_{2 3} + \\theta_{O 1} \\right)} & - L_{3} \\sin{\\left(\\theta_{1 2} + \\theta_{2 3} + \\theta_{O 1} \\right)}\\\\L_{1} \\cos{\\left(\\theta_{O 1} \\right)} + L_{2} \\cos{\\left(\\theta_{1 2} + \\theta_{O 1} \\right)} + L_{3} \\cos{\\left(\\theta_{1 2} + \\theta_{2 3} + \\theta_{O 1} \\right)} & L_{2} \\cos{\\left(\\theta_{1 2} + \\theta_{O 1} \\right)} + L_{3} \\cos{\\left(\\theta_{1 2} + \\theta_{2 3} + \\theta_{O 1} \\right)} & L_{3} \\cos{\\left(\\theta_{1 2} + \\theta_{2 3} + \\theta_{O 1} \\right)}\\\\1 & 1 & 1\\end{matrix}\\right]$"
      ],
      "text/plain": [
       "Matrix([\n",
       "[-L1*sin(theta_O_1) - L2*sin(theta_1_2 + theta_O_1) - L3*sin(theta_1_2 + theta_2_3 + theta_O_1), -L2*sin(theta_1_2 + theta_O_1) - L3*sin(theta_1_2 + theta_2_3 + theta_O_1), -L3*sin(theta_1_2 + theta_2_3 + theta_O_1)],\n",
       "[ L1*cos(theta_O_1) + L2*cos(theta_1_2 + theta_O_1) + L3*cos(theta_1_2 + theta_2_3 + theta_O_1),  L2*cos(theta_1_2 + theta_O_1) + L3*cos(theta_1_2 + theta_2_3 + theta_O_1),  L3*cos(theta_1_2 + theta_2_3 + theta_O_1)],\n",
       "[                                                                                             1,                                                                          1,                                          1]])"
      ]
     },
     "execution_count": 41,
     "metadata": {},
     "output_type": "execute_result"
    }
   ],
   "source": [
    "# Calcular el Jacobiano J_theta\n",
    "# El Jacobiano relaciona las velocidades articulares con las velocidades lineales del efector final.\n",
    "# Para calcularlo, tomamos las derivadas parciales del vector de postura xi_O_P respecto a los ángulos articulares.\n",
    "# El vector xi_O_P tiene tres componentes: posición en X, posición en Y y orientación del efector final.\n",
    "# Cada fila del Jacobiano corresponde a la derivada de cada componente del vector xi_O_P con respecto a cada uno de los ángulos articulares.\n",
    "\n",
    "J_theta = sp.Matrix([\n",
    "    # Primera fila: derivadas parciales de la posición en X respecto a los tres ángulos articulares\n",
    "    [sp.diff(xi_O_P[0], theta_O_1), sp.diff(xi_O_P[0], theta_1_2), sp.diff(xi_O_P[0], theta_2_3)],\n",
    "    \n",
    "    # Segunda fila: derivadas parciales de la posición en Y respecto a los tres ángulos articulares\n",
    "    [sp.diff(xi_O_P[1], theta_O_1), sp.diff(xi_O_P[1], theta_1_2), sp.diff(xi_O_P[1], theta_2_3)],\n",
    "    \n",
    "    # Tercera fila: derivadas parciales de la orientación respecto a los tres ángulos articulares\n",
    "    [sp.diff(xi_O_P[2], theta_O_1), sp.diff(xi_O_P[2], theta_1_2), sp.diff(xi_O_P[2], theta_2_3)],\n",
    "])\n",
    "\n",
    "# Mostrar el Jacobiano J_theta\n",
    "# Al imprimir J_theta, obtenemos la matriz Jacobiana que muestra cómo las velocidades articulares afectan las velocidades del efector final.\n",
    "# Esta matriz es esencial para el análisis de cómo los movimientos de las articulaciones del robot afectan el movimiento del efector final.\n",
    "J_theta\n",
    "\n"
   ]
  },
  {
   "cell_type": "code",
   "execution_count": 46,
   "id": "4027c6da-0365-4467-828a-4648284b9172",
   "metadata": {},
   "outputs": [
    {
     "data": {
      "text/latex": [
       "$\\displaystyle \\left[\\begin{matrix}\\theta_{dot t2} & \\theta_{dot t2} & \\theta_{dot t2}\\\\\\theta_{dot t2} & \\theta_{dot t2} & \\theta_{dot t2}\\\\\\theta_{dot t2} & \\theta_{dot t2} & \\theta_{dot t2}\\end{matrix}\\right]$"
      ],
      "text/plain": [
       "Matrix([\n",
       "[theta_dot_t2, theta_dot_t2, theta_dot_t2],\n",
       "[theta_dot_t2, theta_dot_t2, theta_dot_t2],\n",
       "[theta_dot_t2, theta_dot_t2, theta_dot_t2]])"
      ]
     },
     "execution_count": 46,
     "metadata": {},
     "output_type": "execute_result"
    }
   ],
   "source": [
    "# Importar la librería SymPy para trabajar con álgebra simbólica\n",
    "import sympy as sp\n",
    "\n",
    "# Definir la variable de tiempo\n",
    "# La variable 't' es necesaria para calcular las derivadas temporales de las componentes de la matriz Jacobiana.\n",
    "# La variable de tiempo será utilizada para derivar respecto al tiempo.\n",
    "t = sp.symbols('t')\n",
    "\n",
    "# Definir las variables simbólicas para los ángulos articulares y sus velocidades\n",
    "# Estas son las variables de los ángulos de las articulaciones y sus correspondientes velocidades angulares.\n",
    "# theta_t0, theta_t1, theta_t2: Los ángulos articulares del robot en tres articulaciones.\n",
    "# theta_dot_t0, theta_dot_t1, theta_dot_t2: Las velocidades angulares de cada una de las articulaciones.\n",
    "theta_t0, theta_t1, theta_t2 = sp.symbols('theta_t0 theta_t1 theta_t2')\n",
    "theta_dot_t0, theta_dot_t1, theta_dot_t2 = sp.symbols('theta_dot_t0 theta_dot_t1 theta_dot_t2')\n",
    "\n",
    "# Suponiendo que J_theta está definido previamente\n",
    "# J_theta es la matriz Jacobiana que describe la relación entre las velocidades articulares y las velocidades del efector final.\n",
    "# Esta matriz debe tener ya valores asignados antes de realizar la derivación.\n",
    "\n",
    "# Inicializar una lista para almacenar las derivadas temporales de la matriz Jacobiana\n",
    "# Esta lista almacenará las derivadas con respecto al tiempo de cada componente de la matriz Jacobiana.\n",
    "J_dot_list = []\n",
    "\n",
    "# Derivar cada componente de la matriz Jacobiana\n",
    "# La matriz J_theta tiene varias componentes, y queremos calcular la derivada con respecto al tiempo de cada una.\n",
    "# Usamos un bucle anidado para iterar sobre las filas (i) y columnas (j) de la matriz J_theta y calcular sus derivadas.\n",
    "for i in range(J_theta.shape[0]):  # Itera sobre las filas de la matriz Jacobiana\n",
    "    row = []  # Inicializa una lista vacía para almacenar las derivadas de cada fila\n",
    "    for j in range(J_theta.shape[1]):  # Itera sobre las columnas de la matriz Jacobiana\n",
    "        # Calcula la derivada temporal de cada elemento de la matriz con respecto al tiempo 't'\n",
    "        row.append(sp.diff(J_theta[i, j], t))\n",
    "    J_dot_list.append(row)  # Agrega la fila de derivadas a la lista principal\n",
    "\n",
    "# Convertir la lista de derivadas en una matriz de SymPy\n",
    "# Una vez que hemos calculado todas las derivadas, convertimos la lista de listas en una matriz de SymPy.\n",
    "# Esto nos permite trabajar con la matriz resultante de manera más eficiente.\n",
    "J_dot = sp.Matrix(J_dot_list)\n",
    "\n",
    "# Sustituir las derivadas de los ángulos articulares por las velocidades angulares\n",
    "# Después de calcular las derivadas de los ángulos articulares, sustituimos estas derivadas por las velocidades angulares reales.\n",
    "# Esto transforma las derivadas de los ángulos en las variables de velocidades angulares que se utilizan en los cálculos de las aceleraciones.\n",
    "J_dot = J_dot.subs({sp.diff(theta_t0, t): theta_dot_t0, sp.diff(theta_t1, t): theta_dot_t1, sp.diff(theta_t2, t): theta_dot_t2})\n",
    "\n",
    "# Mostrar la derivada temporal del Jacobiano J_dot\n",
    "# Finalmente, mostramos la matriz J_dot, que es la derivada temporal del Jacobiano y describe cómo las velocidades articulares afectan las velocidades del efector final.\n",
    "J_dot\n",
    "\n"
   ]
  },
  {
   "cell_type": "code",
   "execution_count": 61,
   "id": "72c1ba1a-b60f-4c2c-ae51-5ee72bb3f02d",
   "metadata": {},
   "outputs": [
    {
     "data": {
      "text/latex": [
       "$\\displaystyle \\left[\\begin{matrix}- L_{3} \\theta_{\\dot{d} 2 3} \\sin{\\left(\\theta_{1 2} + \\theta_{2 3} + \\theta_{O 1} \\right)} - \\theta_{\\dot{d} 1 2} \\left(L_{2} \\sin{\\left(\\theta_{1 2} + \\theta_{O 1} \\right)} + L_{3} \\sin{\\left(\\theta_{1 2} + \\theta_{2 3} + \\theta_{O 1} \\right)}\\right) - \\theta_{\\dot{d} O 1} \\left(L_{1} \\sin{\\left(\\theta_{O 1} \\right)} + L_{2} \\sin{\\left(\\theta_{1 2} + \\theta_{O 1} \\right)} + L_{3} \\sin{\\left(\\theta_{1 2} + \\theta_{2 3} + \\theta_{O 1} \\right)}\\right) + \\theta_{dot 1 2} \\theta_{dot t2} + \\theta_{dot 2 3} \\theta_{dot t2} + \\theta_{dot O 1} \\theta_{dot t2}\\\\L_{3} \\theta_{\\dot{d} 2 3} \\cos{\\left(\\theta_{1 2} + \\theta_{2 3} + \\theta_{O 1} \\right)} + \\theta_{\\dot{d} 1 2} \\left(L_{2} \\cos{\\left(\\theta_{1 2} + \\theta_{O 1} \\right)} + L_{3} \\cos{\\left(\\theta_{1 2} + \\theta_{2 3} + \\theta_{O 1} \\right)}\\right) + \\theta_{\\dot{d} O 1} \\left(L_{1} \\cos{\\left(\\theta_{O 1} \\right)} + L_{2} \\cos{\\left(\\theta_{1 2} + \\theta_{O 1} \\right)} + L_{3} \\cos{\\left(\\theta_{1 2} + \\theta_{2 3} + \\theta_{O 1} \\right)}\\right) + \\theta_{dot 1 2} \\theta_{dot t2} + \\theta_{dot 2 3} \\theta_{dot t2} + \\theta_{dot O 1} \\theta_{dot t2}\\\\\\theta_{\\dot{d} 1 2} + \\theta_{\\dot{d} 2 3} + \\theta_{\\dot{d} O 1} + \\theta_{dot 1 2} \\theta_{dot t2} + \\theta_{dot 2 3} \\theta_{dot t2} + \\theta_{dot O 1} \\theta_{dot t2}\\end{matrix}\\right]$"
      ],
      "text/plain": [
       "⎡-L₃⋅θ_ḋ_2_3⋅sin(θ₁ ₂ + θ₂ ₃ + θ_O_1) - θ_ḋ_1_2⋅(L₂⋅sin(θ₁ ₂ + θ_O_1) + L₃⋅sin ↪\n",
       "⎢                                                                              ↪\n",
       "⎢L₃⋅θ_ḋ_2_3⋅cos(θ₁ ₂ + θ₂ ₃ + θ_O_1) + θ_ḋ_1_2⋅(L₂⋅cos(θ₁ ₂ + θ_O_1) + L₃⋅cos( ↪\n",
       "⎢                                                                              ↪\n",
       "⎣                                                                           θ_ ↪\n",
       "\n",
       "↪ (θ₁ ₂ + θ₂ ₃ + θ_O_1)) - θ_ḋ_O_1⋅(L₁⋅sin(θ_O_1) + L₂⋅sin(θ₁ ₂ + θ_O_1) + L₃⋅ ↪\n",
       "↪                                                                              ↪\n",
       "↪ θ₁ ₂ + θ₂ ₃ + θ_O_1)) + θ_ḋ_O_1⋅(L₁⋅cos(θ_O_1) + L₂⋅cos(θ₁ ₂ + θ_O_1) + L₃⋅c ↪\n",
       "↪                                                                              ↪\n",
       "↪ ḋ_1_2 + θ_ḋ_2_3 + θ_ḋ_O_1 + θ_dot_1_2⋅θ_dot_t2 + θ_dot_2_3⋅θ_dot_t2 + θ_dot_ ↪\n",
       "\n",
       "↪ sin(θ₁ ₂ + θ₂ ₃ + θ_O_1)) + θ_dot_1_2⋅θ_dot_t2 + θ_dot_2_3⋅θ_dot_t2 + θ_dot_ ↪\n",
       "↪                                                                              ↪\n",
       "↪ os(θ₁ ₂ + θ₂ ₃ + θ_O_1)) + θ_dot_1_2⋅θ_dot_t2 + θ_dot_2_3⋅θ_dot_t2 + θ_dot_O ↪\n",
       "↪                                                                              ↪\n",
       "↪ O_1⋅θ_dot_t2                                                                 ↪\n",
       "\n",
       "↪ O_1⋅θ_dot_t2⎤\n",
       "↪             ⎥\n",
       "↪ _1⋅θ_dot_t2 ⎥\n",
       "↪             ⎥\n",
       "↪             ⎦"
      ]
     },
     "execution_count": 61,
     "metadata": {},
     "output_type": "execute_result"
    }
   ],
   "source": [
    "# Calcular el modelo cinemático directo de las aceleraciones\n",
    "# Utilizamos la fórmula para el modelo cinemático directo de las aceleraciones:\n",
    "# ẍ = J * θ̈ + J̇ * θ̇\n",
    "# La primera parte de la fórmula (J * θ̈) relaciona las aceleraciones articulares (θ̈) con la aceleración del efector final\n",
    "# La segunda parte (J̇ * θ̇) tiene en cuenta el efecto de las velocidades articulares (θ̇) en la aceleración del efector final\n",
    "\n",
    "# 'J_theta' es la matriz Jacobiana, que describe la relación entre las velocidades articulares y la velocidad del efector final.\n",
    "# 'J_dot' es la derivada temporal de la matriz Jacobiana, que describe cómo las velocidades articulares afectan las aceleraciones del efector final.\n",
    "# 'theta_ddot_O_1', 'theta_ddot_1_2', 'theta_ddot_2_3': Aceleraciones articulares en las tres articulaciones del robot.\n",
    "# 'theta_dot_O_1', 'theta_dot_1_2', 'theta_dot_2_3': Velocidades angulares de las tres articulaciones.\n",
    "\n",
    "x_ddot = sp.simplify(J_theta * sp.Matrix([theta_ddot_O_1, theta_ddot_1_2, theta_ddot_2_3]) + J_dot * sp.Matrix([theta_dot_O_1, theta_dot_1_2, theta_dot_2_3]))\n",
    "\n",
    "# Mostrar el modelo resultante\n",
    "# 'x_ddot' es la matriz resultante que contiene la aceleración total del efector final,\n",
    "# teniendo en cuenta tanto las aceleraciones articulares como las velocidades articulares.\n",
    "x_ddot\n"
   ]
  },
  {
   "cell_type": "markdown",
   "id": "b4d99ad9-0577-4e33-ada5-d67dd74a1088",
   "metadata": {},
   "source": [
    "En el siguiente paso, se procede a calcular el modelo de cinemática inversa para las aceleraciones articulares del robot. Se utilizan las variables simbólicas para representar las aceleraciones deseadas en las tres dimensiones del espacio.\n",
    "\n",
    "Primero, se definen las aceleraciones en las direcciones correspondientes a los centros de masa de los componentes del robot. A partir de esto, se crea un vector que representa las aceleraciones deseadas en el espacio cartesiano.\n",
    "\n",
    "Para obtener las aceleraciones articulares requeridas, se aplica la pseudoinversa de la matriz Jacobiana $J(\\theta)$. Esta operación permite calcular las aceleraciones articulares en función de las aceleraciones deseadas del efector, teniendo en cuenta las velocidades articulares actuales y su relación con las matrices de transformación. Esto se logra mediante la resta entre las aceleraciones deseadas y la multiplicación de la matriz Jacobiana derivada, $J(\\theta)$, con las velocidades articulares.\n",
    "\n",
    "Al finalizar este proceso, se obtiene el vector resultante con las aceleraciones articulares necesarias para lograr el movimiento deseado del robot en el espacio operativo. El cálculo es simplificado para obtener una expresión más manejable.\n",
    "\n"
   ]
  },
  {
   "cell_type": "markdown",
   "id": "fe3d1a68-4a31-43c9-a9fd-f723739e00f6",
   "metadata": {},
   "source": [
    "\n",
    "###  MODELADO DINÁMICO.\n",
    "#### Modelo Dinámico por Ecuaciones de Euler-Lagrange\n",
    "\n",
    "\n",
    "Estas ecuaciones, que se derivan de la energía cinética y la energía potencial, nos ayudan a calcular los pares de fuerzas actuantes necesarios para que el robot se mueva de forma controlada. Comprender cómo cada parte del robot contribuye al movimiento total es crucial para diseñar un sistema de control eficaz.\n"
   ]
  },
  {
   "cell_type": "code",
   "execution_count": 4,
   "id": "9dc6f8c2-09de-478a-8556-381b59cf784b",
   "metadata": {},
   "outputs": [
    {
     "data": {
      "text/latex": [
       "$\\displaystyle \\left[\\begin{matrix}0\\\\\\theta_{dot O 1} x_{1 C1}\\\\0\\end{matrix}\\right]$"
      ],
      "text/plain": [
       "Matrix([\n",
       "[                   0],\n",
       "[theta_dot_O_1*x_1_C1],\n",
       "[                   0]])"
      ]
     },
     "execution_count": 4,
     "metadata": {},
     "output_type": "execute_result"
    }
   ],
   "source": [
    "# Importamos la librería SymPy para trabajar con álgebra simbólica\n",
    "import sympy as sp\n",
    "\n",
    "# Definimos las variables simbólicas necesarias\n",
    "# 'x_1_C1' representa la distancia del punto en el sistema C1 en la dirección X\n",
    "# 'theta_dot_O_1' es la velocidad angular en el sistema base, relacionada con la rotación del cuerpo alrededor del eje Z\n",
    "x_1_C1, theta_dot_O_1 = sp.symbols('x_1_C1 theta_dot_O_1')\n",
    "\n",
    "# Calculamos la velocidad en el sistema C1\n",
    "# 'v_C1_C1' es un vector que representa la velocidad del punto C1 en su propio sistema de referencia.\n",
    "# El vector tiene componentes en los tres ejes (X, Y, Z). En este caso:\n",
    "# - La componente X es cero, ya que no hay movimiento en esa dirección.\n",
    "# - La componente Y es x_1_C1 * theta_dot_O_1, que depende de la distancia 'x_1_C1' y la velocidad angular 'theta_dot_O_1'.\n",
    "# - La componente Z es cero, ya que no hay movimiento en esa dirección.\n",
    "v_C1_C1 = sp.Matrix([0, x_1_C1 * theta_dot_O_1, 0])\n",
    "\n",
    "# Mostrar el vector de velocidad resultante\n",
    "# El resultado es un vector que describe la velocidad en el sistema C1, tomando en cuenta su movimiento en la dirección Y.\n",
    "v_C1_C1\n"
   ]
  },
  {
   "cell_type": "code",
   "execution_count": 5,
   "id": "bb979190-82d1-4cb9-a2c3-308759aceb39",
   "metadata": {},
   "outputs": [
    {
     "data": {
      "text/latex": [
       "$\\displaystyle \\left[\\begin{matrix}- \\theta_{dot O 1} x_{1 C1} \\sin{\\left(\\theta_{O 1} \\right)}\\\\\\theta_{dot O 1} x_{1 C1} \\cos{\\left(\\theta_{O 1} \\right)}\\\\0\\end{matrix}\\right]$"
      ],
      "text/plain": [
       "Matrix([\n",
       "[-theta_dot_O_1*x_1_C1*sin(theta_O_1)],\n",
       "[ theta_dot_O_1*x_1_C1*cos(theta_O_1)],\n",
       "[                                   0]])"
      ]
     },
     "execution_count": 5,
     "metadata": {},
     "output_type": "execute_result"
    }
   ],
   "source": [
    "# Importamos la librería SymPy para trabajar con álgebra simbólica\n",
    "import sympy as sp\n",
    "\n",
    "# Definir las variables simbólicas\n",
    "# x_1_C1: La distancia desde el punto C1 en el sistema del cuerpo C1 (usado para calcular la velocidad)\n",
    "# theta_dot_O_1: La velocidad angular en la articulación 0, relacionada con el movimiento del robot\n",
    "# theta_O_1: El ángulo de la articulación 0, utilizado para calcular las proyecciones en las direcciones X y Y\n",
    "x_1_C1, theta_dot_O_1, theta_O_1 = sp.symbols('x_1_C1 theta_dot_O_1 theta_O_1')\n",
    "\n",
    "# Calcular la velocidad en el sistema global O\n",
    "# v_O_C1 es el vector de velocidad del punto C1 en el sistema global O\n",
    "# Utilizamos la fórmula general para la velocidad en un sistema de coordenadas polar:\n",
    "\n",
    "# La primera componente en X:\n",
    "# - La velocidad en el eje X se calcula como la proyección del movimiento del punto C1,\n",
    "#   la cual depende de la distancia (x_1_C1), la velocidad angular (theta_dot_O_1),\n",
    "#   y el ángulo (theta_O_1). \n",
    "#   El signo negativo indica que la dirección del movimiento en X depende del seno del ángulo.\n",
    "v_O_C1 = sp.Matrix([\n",
    "    [-theta_dot_O_1 * x_1_C1 * sp.sin(theta_O_1)],  # Componente en X\n",
    "    # La segunda componente en Y:\n",
    "    # - La velocidad en el eje Y se calcula como la proyección del movimiento del punto C1 en esa dirección,\n",
    "    #   usando la distancia (x_1_C1) y la velocidad angular (theta_dot_O_1),\n",
    "    #   y el coseno del ángulo (theta_O_1) para obtener la proyección en Y.\n",
    "    #   Aquí no es necesario un signo negativo porque el movimiento sigue la dirección del coseno del ángulo.\n",
    "    [theta_dot_O_1 * x_1_C1 * sp.cos(theta_O_1)],   # Componente en Y\n",
    "    # La componente en Z:\n",
    "    # - No hay movimiento en la dirección Z, por lo que la componente es cero.\n",
    "    [0]  # Componente en Z (sin movimiento en esa dirección)\n",
    "])\n",
    "\n",
    "# Mostrar el resultado\n",
    "# El resultado 'v_O_C1' es un vector de velocidad en el sistema global O.\n",
    "# El vector describe el movimiento del punto C1 en las direcciones X, Y y Z, \n",
    "# tomando en cuenta su distancia y la velocidad angular en el sistema de coordenadas global.\n",
    "v_O_C1\n"
   ]
  },
  {
   "cell_type": "code",
   "execution_count": 9,
   "id": "1665a702-b472-4450-bf33-15f022dd7994",
   "metadata": {},
   "outputs": [
    {
     "data": {
      "text/latex": [
       "$\\displaystyle \\left[\\begin{matrix}\\theta_{dot O 1}^{2} x_{1 C1}^{2}\\end{matrix}\\right]$"
      ],
      "text/plain": [
       "Matrix([[theta_dot_O_1**2*x_1_C1**2]])"
      ]
     },
     "execution_count": 9,
     "metadata": {},
     "output_type": "execute_result"
    }
   ],
   "source": [
    "# Importamos la librería SymPy para trabajar con álgebra simbólica\n",
    "import sympy as sp\n",
    "\n",
    "# Definir las variables simbólicas\n",
    "# 'x_1_C1' representa la distancia del punto C1 en el sistema del cuerpo C1 en la dirección X\n",
    "# 'theta_dot_O_1' es la velocidad angular en el sistema base, relacionada con la rotación del cuerpo alrededor del eje Z\n",
    "x_1_C1, theta_dot_O_1 = sp.symbols('x_1_C1 theta_dot_O_1')\n",
    "\n",
    "# Calcular la velocidad en el sistema global O\n",
    "# 'v_C1_C1' es un vector que representa la velocidad del punto C1 en el sistema global O.\n",
    "# Este vector tiene 3 componentes: en X, Y, y Z. En este caso:\n",
    "# - La componente X es 0, ya que no hay movimiento en esa dirección.\n",
    "# - La componente Y es 'x_1_C1 * theta_dot_O_1', lo que representa el movimiento en Y debido a la rotación alrededor del eje Z.\n",
    "# - La componente Z es 0, ya que no hay movimiento en esa dirección.\n",
    "v_C1_C1 = sp.Matrix([0, x_1_C1 * theta_dot_O_1, 0])\n",
    "\n",
    "# Calcular el producto punto de 'v_C1_C1' consigo misma\n",
    "# Esto calcula el cuadrado de la magnitud del vector de velocidad. En otras palabras,\n",
    "# estamos sumando el cuadrado de cada componente del vector de velocidad.\n",
    "# El producto punto de un vector consigo mismo es equivalente a la suma de los cuadrados de sus componentes.\n",
    "v_C1_C1_dot = v_C1_C1.transpose() * v_C1_C1\n",
    "\n",
    "# Simplificar la expresión resultante para obtener la forma más compacta y comprensible\n",
    "# 'simplify' elimina términos redundantes y da una forma más clara a la expresión.\n",
    "v_C1_C1_dot_simplified = sp.simplify(v_C1_C1_dot)\n",
    "\n",
    "# Mostrar el resultado\n",
    "# El resultado 'v_C1_C1_dot_simplified' muestra el cuadrado de la magnitud de la velocidad en el sistema global O.\n",
    "v_C1_C1_dot_simplified\n",
    "\n",
    "\n"
   ]
  },
  {
   "cell_type": "markdown",
   "id": "33417e35-638f-448e-a489-f8818a815e56",
   "metadata": {},
   "source": [
    "- **Producto Punto de v_O_C1 consigo misma y su Simplificación**\n",
    "\n",
    "En este cálculo, se determina el producto punto de la velocidad del centro de masa 𝐶1 en el sistema global 𝑂 consigo misma. A continuación, la expresión se simplifica, lo que nos proporciona el cuadrado de la magnitud de la velocidad en el sistema global. Esta operación es crucial para calcular la energía cinética rotacional del sistema."
   ]
  },
  {
   "cell_type": "code",
   "execution_count": 11,
   "id": "32118b0f-4718-4be0-913e-15ecbfc3f52b",
   "metadata": {},
   "outputs": [
    {
     "data": {
      "text/latex": [
       "$\\displaystyle \\left[\\begin{matrix}\\theta_{dot O 1}^{2} x_{1 C1}^{2}\\end{matrix}\\right]$"
      ],
      "text/plain": [
       "Matrix([[theta_dot_O_1**2*x_1_C1**2]])"
      ]
     },
     "execution_count": 11,
     "metadata": {},
     "output_type": "execute_result"
    }
   ],
   "source": [
    "# Simplificar el producto punto de v_O_C1 consigo misma\n",
    "# 'v_O_C1.transpose()' calcula la transposición de la matriz v_O_C1,\n",
    "# lo que significa que estamos convirtiendo el vector fila de la matriz en un vector columna.\n",
    "# 'v_O_C1' es el vector de velocidad del punto C1 en el sistema global O.\n",
    "\n",
    "# Multiplicamos la transposición de v_O_C1 por v_O_C1 para obtener el producto punto.\n",
    "# El producto punto de un vector consigo mismo es la suma de los cuadrados de sus componentes.\n",
    "# Esto nos da el cuadrado de la magnitud de la velocidad de C1 en el sistema global O.\n",
    "\n",
    "v_O_C1_dot_simplified = sp.simplify(v_O_C1.transpose() * v_O_C1)\n",
    "\n",
    "# Mostrar el resultado simplificado\n",
    "# El resultado es la expresión simplificada que representa el cuadrado de la magnitud de la velocidad.\n",
    "# Esto se utiliza para calcular la energía cinética, entre otras cosas.\n",
    "v_O_C1_dot_simplified\n",
    "\n"
   ]
  },
  {
   "cell_type": "markdown",
   "id": "2755f7fa-6447-44c2-a62f-8b50a69c9b57",
   "metadata": {},
   "source": [
    "#### POSICIÓN CENTROS DE MASA\n",
    "\n",
    "En esta sección, se determina la ubicación de los centros de masa de los distintos componentes del robot, lo cual es fundamental para comprender cómo se distribuye la masa y, por lo tanto, para calcular la energía cinética total del sistema. La posición de cada centro de masa se obtiene mediante transformaciones homogéneas, que describen la relación espacial entre las diversas partes del robot y su sistema de referencia global.\n",
    "\n",
    "Para cada eslabón del robot, se utilizan las matrices de transformación homogénea, que incorporan las longitudes de los eslabones y los ángulos de las articulaciones. Estas matrices nos permiten calcular las posiciones de los centros de masa en coordenadas globales, lo cual es crucial para los siguientes pasos en el análisis dinámico.\n",
    "\n",
    "A continuación, se calcula la posición de los centros de masa para los componentes C1, C2 y C3, tomando en cuenta las transformaciones desde el sistema de referencia de cada componente hasta el sistema global.\n",
    "\n",
    "- **Cálculo de la Transformación para el Centro de Masa de C1 C2 y C3**\n",
    "\n",
    "En este paso, se determinarán las posiciones globales de los centros de masa de los componentes 𝐶1, 𝐶2 y 𝐶3 del robot, utilizando una serie de transformaciones homogéneas. Estas transformaciones permiten describir cómo se relacionan espacialmente los centros de masa con respecto al sistema de referencia global, lo cual es crucial para entender la disposición relativa de las distintas partes del robot en el espacio. Durante el proceso, se calcularán las matrices de transformación para cada componente, teniendo en cuenta los parámetros de traslación y rotación, y posteriormente se combinarán estas matrices para obtener las posiciones globales de los centros de masa."
   ]
  },
  {
   "cell_type": "code",
   "execution_count": 14,
   "id": "a49c74a5-c9ba-4854-9b06-585c7a568ce1",
   "metadata": {},
   "outputs": [
    {
     "name": "stdout",
     "output_type": "stream",
     "text": [
      "T_1_C1=              T_2_C2=            T_3_C3=\n"
     ]
    },
    {
     "data": {
      "text/latex": [
       "$\\displaystyle \\left( \\left[\\begin{matrix}1 & 0 & 0 & x_{1 C1}\\\\0 & 1 & 0 & 0\\\\0 & 0 & 1 & 0\\\\0 & 0 & 0 & 1\\end{matrix}\\right], \\  \\left[\\begin{matrix}1 & 0 & 0 & x_{2 C2}\\\\0 & 1 & 0 & 0\\\\0 & 0 & 1 & 0\\\\0 & 0 & 0 & 1\\end{matrix}\\right], \\  \\left[\\begin{matrix}1 & 0 & 0 & x_{3 C3}\\\\0 & 1 & 0 & 0\\\\0 & 0 & 1 & 0\\\\0 & 0 & 0 & 1\\end{matrix}\\right]\\right)$"
      ],
      "text/plain": [
       "⎛⎡1  0  0  x_1_C1⎤  ⎡1  0  0  x_2_C2⎤  ⎡1  0  0  x_3_C3⎤⎞\n",
       "⎜⎢               ⎥  ⎢               ⎥  ⎢               ⎥⎟\n",
       "⎜⎢0  1  0    0   ⎥  ⎢0  1  0    0   ⎥  ⎢0  1  0    0   ⎥⎟\n",
       "⎜⎢               ⎥, ⎢               ⎥, ⎢               ⎥⎟\n",
       "⎜⎢0  0  1    0   ⎥  ⎢0  0  1    0   ⎥  ⎢0  0  1    0   ⎥⎟\n",
       "⎜⎢               ⎥  ⎢               ⎥  ⎢               ⎥⎟\n",
       "⎝⎣0  0  0    1   ⎦  ⎣0  0  0    1   ⎦  ⎣0  0  0    1   ⎦⎠"
      ]
     },
     "execution_count": 14,
     "metadata": {},
     "output_type": "execute_result"
    }
   ],
   "source": [
    "# Importamos la librería SymPy para trabajar con álgebra simbólica\n",
    "import sympy as sp\n",
    "\n",
    "# Definir las variables simbólicas\n",
    "# 'x_1_C1', 'x_2_C2', 'x_3_C3' representan las posiciones de los centros de masa de los componentes C1, C2 y C3 en sus respectivos sistemas de coordenadas.\n",
    "# 'theta_O_1', 'theta_1_2', 'theta_2_3' son los ángulos de rotación entre los eslabones del robot.\n",
    "x_1_C1, x_2_C2, x_3_C3, theta_O_1, theta_1_2, theta_2_3 = sp.symbols('x_1_C1 x_2_C2 x_3_C3 theta_O_1 theta_1_2 theta_2_3')\n",
    "\n",
    "# Inicializar la impresión bonita para mostrar las expresiones matemáticas de manera más legible en Jupyter\n",
    "sp.init_printing()\n",
    "\n",
    "# Definir la función Tij que calcula la matriz de transformación homogénea\n",
    "# Esta matriz describe cómo un punto en un sistema de coordenadas se transforma a otro sistema,\n",
    "# considerando una combinación de traslación y rotación. Los parámetros son:\n",
    "# x, y, z: traslaciones en los tres ejes\n",
    "# g, b, a: ángulos de rotación en los ejes Z, Y, X respectivamente\n",
    "def Tij(x, y, z, g, b, a):\n",
    "    # La matriz de transformación homogénea se calcula con base en las rotaciones y traslaciones\n",
    "    return sp.Matrix([[sp.cos(a)*sp.cos(b), sp.cos(a)*sp.sin(b)*sp.sin(g)-sp.sin(a)*sp.cos(g), sp.sin(a)*sp.sin(g)+sp.cos(a)*sp.sin(b)*sp.cos(g), x],\n",
    "                      [sp.sin(a)*sp.cos(b), sp.cos(a)*sp.cos(g)+sp.sin(a)*sp.sin(b)*sp.sin(g), sp.sin(a)*sp.sin(b)*sp.cos(g)-sp.cos(a)*sp.sin(g), y],\n",
    "                      [-sp.sin(b), sp.cos(b)*sp.sin(g), sp.cos(b)*sp.cos(g), z],\n",
    "                      [0, 0, 0, 1]])  # Última fila es para asegurar que sea una transformación homogénea 4x4\n",
    "\n",
    "# Definir la matriz de transformación homogénea T_O_1 para el primer eslabón del robot\n",
    "# Esta matriz describe la transformación desde el sistema base O al sistema del primer eslabón (O a 1)\n",
    "# Usamos una rotación alrededor del eje Z (theta_O_1)\n",
    "T_O_1 = sp.Matrix([[sp.cos(theta_O_1), -sp.sin(theta_O_1), 0, 0],\n",
    "                   [sp.sin(theta_O_1), sp.cos(theta_O_1), 0, 0],\n",
    "                   [0, 0, 1, 0],\n",
    "                   [0, 0, 0, 1]])\n",
    "\n",
    "# Transformación homogénea para el centro de masa de C1, aplicando la función Tij para calcular su posición\n",
    "# Se calcula la matriz de transformación para el centro de masa de C1 en el sistema global usando las traslaciones y las rotaciones\n",
    "T_1_C1 = Tij(x_1_C1, 0, 0, 0, 0, 0)\n",
    "\n",
    "# Multiplicación de matrices para obtener la transformación total T_O_C1\n",
    "# Esto nos da la posición global del centro de masa de C1 considerando la transformación de O a 1 y la transformación de 1 a C1\n",
    "T_O_C1 = T_O_1 * T_1_C1\n",
    "\n",
    "# Transformación homogénea para el centro de masa de C2\n",
    "# Usamos la función Tij para calcular la matriz de transformación de C2, similar a lo hecho con C1\n",
    "T_2_C2 = Tij(x_2_C2, 0, 0, 0, 0, 0)\n",
    "\n",
    "# Definir la matriz de transformación T_1_2 que describe la relación entre el primer y segundo eslabón del robot\n",
    "# Esta matriz describe una rotación alrededor del eje Z (theta_1_2)\n",
    "T_1_2 = sp.Matrix([[sp.cos(theta_1_2), -sp.sin(theta_1_2), 0, 0],\n",
    "                   [sp.sin(theta_1_2), sp.cos(theta_1_2), 0, 0],\n",
    "                   [0, 0, 1, 0],\n",
    "                   [0, 0, 0, 1]])\n",
    "\n",
    "# Multiplicación de matrices para obtener T_O_C2 (la transformación desde el sistema base O hasta C2)\n",
    "# Primero multiplicamos la transformación de O a 1, luego de 1 a 2, y finalmente de 2 a C2\n",
    "T_O_C2 = T_O_1 * T_1_2 * T_2_C2\n",
    "\n",
    "# Transformación homogénea para el centro de masa de C3\n",
    "# Similar a los casos anteriores, calculamos la transformación para C3\n",
    "T_3_C3 = Tij(x_3_C3, 0, 0, 0, 0, 0)\n",
    "\n",
    "# Definir la matriz de transformación T_2_3 que describe la relación entre el segundo y tercer eslabón\n",
    "# Esta matriz describe una rotación alrededor del eje Z (theta_2_3)\n",
    "T_2_3 = sp.Matrix([[sp.cos(theta_2_3), -sp.sin(theta_2_3), 0, 0],\n",
    "                   [sp.sin(theta_2_3), sp.cos(theta_2_3), 0, 0],\n",
    "                   [0, 0, 1, 0],\n",
    "                   [0, 0, 0, 1]])\n",
    "\n",
    "# Multiplicación de matrices para obtener T_O_C3 (la transformación desde el sistema base O hasta C3)\n",
    "# Primero multiplicamos la transformación de O a 1, luego de 1 a 2, luego de 2 a 3, y finalmente de 3 a C3\n",
    "T_O_C3 = T_O_1 * T_1_2 * T_2_3 * T_3_C3\n",
    "\n",
    "# Mostrar las matrices de transformación de los centros de masa de C1, C2 y C3\n",
    "# Estas matrices contienen las posiciones globales de los centros de masa en función de las transformaciones homogéneas\n",
    "print('T_1_C1=              T_2_C2=            T_3_C3=') \n",
    "T_1_C1, T_2_C2, T_3_C3\n"
   ]
  },
  {
   "cell_type": "code",
   "execution_count": 16,
   "id": "b4a1a135-9c34-439c-b978-bad287b2a169",
   "metadata": {},
   "outputs": [
    {
     "name": "stdout",
     "output_type": "stream",
     "text": [
      "T_O_C1=, T_O_C2=, T_O_C3=\n"
     ]
    },
    {
     "data": {
      "text/latex": [
       "$\\displaystyle \\left( \\left[\\begin{matrix}\\cos{\\left(\\theta_{O 1} \\right)} & - \\sin{\\left(\\theta_{O 1} \\right)} & 0 & x_{1 C1} \\cos{\\left(\\theta_{O 1} \\right)}\\\\\\sin{\\left(\\theta_{O 1} \\right)} & \\cos{\\left(\\theta_{O 1} \\right)} & 0 & x_{1 C1} \\sin{\\left(\\theta_{O 1} \\right)}\\\\0 & 0 & 1 & 0\\\\0 & 0 & 0 & 1\\end{matrix}\\right], \\  \\left[\\begin{matrix}- \\sin{\\left(\\theta_{1 2} \\right)} \\sin{\\left(\\theta_{O 1} \\right)} + \\cos{\\left(\\theta_{1 2} \\right)} \\cos{\\left(\\theta_{O 1} \\right)} & - \\sin{\\left(\\theta_{1 2} \\right)} \\cos{\\left(\\theta_{O 1} \\right)} - \\sin{\\left(\\theta_{O 1} \\right)} \\cos{\\left(\\theta_{1 2} \\right)} & 0 & x_{2 C2} \\left(- \\sin{\\left(\\theta_{1 2} \\right)} \\sin{\\left(\\theta_{O 1} \\right)} + \\cos{\\left(\\theta_{1 2} \\right)} \\cos{\\left(\\theta_{O 1} \\right)}\\right)\\\\\\sin{\\left(\\theta_{1 2} \\right)} \\cos{\\left(\\theta_{O 1} \\right)} + \\sin{\\left(\\theta_{O 1} \\right)} \\cos{\\left(\\theta_{1 2} \\right)} & - \\sin{\\left(\\theta_{1 2} \\right)} \\sin{\\left(\\theta_{O 1} \\right)} + \\cos{\\left(\\theta_{1 2} \\right)} \\cos{\\left(\\theta_{O 1} \\right)} & 0 & x_{2 C2} \\left(\\sin{\\left(\\theta_{1 2} \\right)} \\cos{\\left(\\theta_{O 1} \\right)} + \\sin{\\left(\\theta_{O 1} \\right)} \\cos{\\left(\\theta_{1 2} \\right)}\\right)\\\\0 & 0 & 1 & 0\\\\0 & 0 & 0 & 1\\end{matrix}\\right], \\  \\left[\\begin{matrix}\\left(- \\sin{\\left(\\theta_{1 2} \\right)} \\sin{\\left(\\theta_{O 1} \\right)} + \\cos{\\left(\\theta_{1 2} \\right)} \\cos{\\left(\\theta_{O 1} \\right)}\\right) \\cos{\\left(\\theta_{2 3} \\right)} + \\left(- \\sin{\\left(\\theta_{1 2} \\right)} \\cos{\\left(\\theta_{O 1} \\right)} - \\sin{\\left(\\theta_{O 1} \\right)} \\cos{\\left(\\theta_{1 2} \\right)}\\right) \\sin{\\left(\\theta_{2 3} \\right)} & - \\left(- \\sin{\\left(\\theta_{1 2} \\right)} \\sin{\\left(\\theta_{O 1} \\right)} + \\cos{\\left(\\theta_{1 2} \\right)} \\cos{\\left(\\theta_{O 1} \\right)}\\right) \\sin{\\left(\\theta_{2 3} \\right)} + \\left(- \\sin{\\left(\\theta_{1 2} \\right)} \\cos{\\left(\\theta_{O 1} \\right)} - \\sin{\\left(\\theta_{O 1} \\right)} \\cos{\\left(\\theta_{1 2} \\right)}\\right) \\cos{\\left(\\theta_{2 3} \\right)} & 0 & x_{3 C3} \\left(\\left(- \\sin{\\left(\\theta_{1 2} \\right)} \\sin{\\left(\\theta_{O 1} \\right)} + \\cos{\\left(\\theta_{1 2} \\right)} \\cos{\\left(\\theta_{O 1} \\right)}\\right) \\cos{\\left(\\theta_{2 3} \\right)} + \\left(- \\sin{\\left(\\theta_{1 2} \\right)} \\cos{\\left(\\theta_{O 1} \\right)} - \\sin{\\left(\\theta_{O 1} \\right)} \\cos{\\left(\\theta_{1 2} \\right)}\\right) \\sin{\\left(\\theta_{2 3} \\right)}\\right)\\\\\\left(- \\sin{\\left(\\theta_{1 2} \\right)} \\sin{\\left(\\theta_{O 1} \\right)} + \\cos{\\left(\\theta_{1 2} \\right)} \\cos{\\left(\\theta_{O 1} \\right)}\\right) \\sin{\\left(\\theta_{2 3} \\right)} + \\left(\\sin{\\left(\\theta_{1 2} \\right)} \\cos{\\left(\\theta_{O 1} \\right)} + \\sin{\\left(\\theta_{O 1} \\right)} \\cos{\\left(\\theta_{1 2} \\right)}\\right) \\cos{\\left(\\theta_{2 3} \\right)} & \\left(- \\sin{\\left(\\theta_{1 2} \\right)} \\sin{\\left(\\theta_{O 1} \\right)} + \\cos{\\left(\\theta_{1 2} \\right)} \\cos{\\left(\\theta_{O 1} \\right)}\\right) \\cos{\\left(\\theta_{2 3} \\right)} - \\left(\\sin{\\left(\\theta_{1 2} \\right)} \\cos{\\left(\\theta_{O 1} \\right)} + \\sin{\\left(\\theta_{O 1} \\right)} \\cos{\\left(\\theta_{1 2} \\right)}\\right) \\sin{\\left(\\theta_{2 3} \\right)} & 0 & x_{3 C3} \\left(\\left(- \\sin{\\left(\\theta_{1 2} \\right)} \\sin{\\left(\\theta_{O 1} \\right)} + \\cos{\\left(\\theta_{1 2} \\right)} \\cos{\\left(\\theta_{O 1} \\right)}\\right) \\sin{\\left(\\theta_{2 3} \\right)} + \\left(\\sin{\\left(\\theta_{1 2} \\right)} \\cos{\\left(\\theta_{O 1} \\right)} + \\sin{\\left(\\theta_{O 1} \\right)} \\cos{\\left(\\theta_{1 2} \\right)}\\right) \\cos{\\left(\\theta_{2 3} \\right)}\\right)\\\\0 & 0 & 1 & 0\\\\0 & 0 & 0 & 1\\end{matrix}\\right]\\right)$"
      ],
      "text/plain": [
       "⎛⎡cos(θ_O_1)  -sin(θ_O_1)  0  x_1_C1⋅cos(θ_O_1)⎤  ⎡-sin(θ₁ ₂)⋅sin(θ_O_1) + cos ↪\n",
       "⎜⎢                                             ⎥  ⎢                            ↪\n",
       "⎜⎢sin(θ_O_1)  cos(θ_O_1)   0  x_1_C1⋅sin(θ_O_1)⎥  ⎢sin(θ₁ ₂)⋅cos(θ_O_1) + sin( ↪\n",
       "⎜⎢                                             ⎥, ⎢                            ↪\n",
       "⎜⎢    0            0       1          0        ⎥  ⎢                     0      ↪\n",
       "⎜⎢                                             ⎥  ⎢                            ↪\n",
       "⎝⎣    0            0       0          1        ⎦  ⎣                     0      ↪\n",
       "\n",
       "↪ (θ₁ ₂)⋅cos(θ_O_1)  -sin(θ₁ ₂)⋅cos(θ_O_1) - sin(θ_O_1)⋅cos(θ₁ ₂)  0  x_2_C2⋅( ↪\n",
       "↪                                                                              ↪\n",
       "↪ θ_O_1)⋅cos(θ₁ ₂)   -sin(θ₁ ₂)⋅sin(θ_O_1) + cos(θ₁ ₂)⋅cos(θ_O_1)  0  x_2_C2⋅( ↪\n",
       "↪                                                                              ↪\n",
       "↪                                         0                        1           ↪\n",
       "↪                                                                              ↪\n",
       "↪                                         0                        0           ↪\n",
       "\n",
       "↪ -sin(θ₁ ₂)⋅sin(θ_O_1) + cos(θ₁ ₂)⋅cos(θ_O_1))⎤  ⎡(-sin(θ₁ ₂)⋅sin(θ_O_1) + co ↪\n",
       "↪                                              ⎥  ⎢                            ↪\n",
       "↪ sin(θ₁ ₂)⋅cos(θ_O_1) + sin(θ_O_1)⋅cos(θ₁ ₂)) ⎥  ⎢(-sin(θ₁ ₂)⋅sin(θ_O_1) + co ↪\n",
       "↪                                              ⎥, ⎢                            ↪\n",
       "↪                   0                          ⎥  ⎢                            ↪\n",
       "↪                                              ⎥  ⎢                            ↪\n",
       "↪                   1                          ⎦  ⎣                            ↪\n",
       "\n",
       "↪ s(θ₁ ₂)⋅cos(θ_O_1))⋅cos(θ₂ ₃) + (-sin(θ₁ ₂)⋅cos(θ_O_1) - sin(θ_O_1)⋅cos(θ₁ ₂ ↪\n",
       "↪                                                                              ↪\n",
       "↪ s(θ₁ ₂)⋅cos(θ_O_1))⋅sin(θ₂ ₃) + (sin(θ₁ ₂)⋅cos(θ_O_1) + sin(θ_O_1)⋅cos(θ₁ ₂) ↪\n",
       "↪                                                                              ↪\n",
       "↪                               0                                              ↪\n",
       "↪                                                                              ↪\n",
       "↪                               0                                              ↪\n",
       "\n",
       "↪ ))⋅sin(θ₂ ₃)  -(-sin(θ₁ ₂)⋅sin(θ_O_1) + cos(θ₁ ₂)⋅cos(θ_O_1))⋅sin(θ₂ ₃) + (- ↪\n",
       "↪                                                                              ↪\n",
       "↪ )⋅cos(θ₂ ₃)    (-sin(θ₁ ₂)⋅sin(θ_O_1) + cos(θ₁ ₂)⋅cos(θ_O_1))⋅cos(θ₂ ₃) - (s ↪\n",
       "↪                                                                              ↪\n",
       "↪                                                                        0     ↪\n",
       "↪                                                                              ↪\n",
       "↪                                                                        0     ↪\n",
       "\n",
       "↪ sin(θ₁ ₂)⋅cos(θ_O_1) - sin(θ_O_1)⋅cos(θ₁ ₂))⋅cos(θ₂ ₃)  0  x_3_C3⋅((-sin(θ₁  ↪\n",
       "↪                                                                              ↪\n",
       "↪ in(θ₁ ₂)⋅cos(θ_O_1) + sin(θ_O_1)⋅cos(θ₁ ₂))⋅sin(θ₂ ₃)   0  x_3_C3⋅((-sin(θ₁  ↪\n",
       "↪                                                                              ↪\n",
       "↪                                                         1                    ↪\n",
       "↪                                                                              ↪\n",
       "↪                                                         0                    ↪\n",
       "\n",
       "↪ ₂)⋅sin(θ_O_1) + cos(θ₁ ₂)⋅cos(θ_O_1))⋅cos(θ₂ ₃) + (-sin(θ₁ ₂)⋅cos(θ_O_1) - s ↪\n",
       "↪                                                                              ↪\n",
       "↪ ₂)⋅sin(θ_O_1) + cos(θ₁ ₂)⋅cos(θ_O_1))⋅sin(θ₂ ₃) + (sin(θ₁ ₂)⋅cos(θ_O_1) + si ↪\n",
       "↪                                                                              ↪\n",
       "↪                                             0                                ↪\n",
       "↪                                                                              ↪\n",
       "↪                                             1                                ↪\n",
       "\n",
       "↪ in(θ_O_1)⋅cos(θ₁ ₂))⋅sin(θ₂ ₃))⎤⎞\n",
       "↪                                ⎥⎟\n",
       "↪ n(θ_O_1)⋅cos(θ₁ ₂))⋅cos(θ₂ ₃)) ⎥⎟\n",
       "↪                                ⎥⎟\n",
       "↪                                ⎥⎟\n",
       "↪                                ⎥⎟\n",
       "↪                                ⎦⎠"
      ]
     },
     "execution_count": 16,
     "metadata": {},
     "output_type": "execute_result"
    }
   ],
   "source": [
    "# Imprimir un mensaje para identificar las matrices de transformación T_O_C1, T_O_C2 y T_O_C3\n",
    "# Este mensaje indica que las siguientes matrices corresponden a las posiciones globales de los centros de masa de C1, C2 y C3\n",
    "print('T_O_C1=, T_O_C2=, T_O_C3=')\n",
    "\n",
    "# Mostrar las matrices de transformación de los centros de masa C1, C2 y C3 en el sistema global O\n",
    "# Las matrices T_O_C1, T_O_C2 y T_O_C3 fueron calculadas previamente y contienen la información de las posiciones globales\n",
    "# de los centros de masa de los componentes C1, C2 y C3, respectivamente, en función de las transformaciones homogéneas.\n",
    "T_O_C1, T_O_C2, T_O_C3\n"
   ]
  },
  {
   "cell_type": "markdown",
   "id": "5292cc9b-6f55-4513-9c2b-2b3ac25889bc",
   "metadata": {},
   "source": [
    "\n",
    "- **Vectores de Posición**\n",
    "\n",
    "Determinamos los vectores de posición de los centros de masa de los componentes 𝐶1, 𝐶2 y 𝐶3. Estos vectores se construyen extrayendo las componentes de traslación 𝑥, 𝑦, y 𝑧 de las matrices de transformación homogénea T_O_C1, T_O_C2, y T_O_C3, las cuales describen la ubicación de dichos centros de masa en el sistema de referencia global. Además, para los componentes 𝐶2 y 𝐶3, se aplica la función de simplificación para obtener expresiones más fáciles de manejar.\n",
    "\n"
   ]
  },
  {
   "cell_type": "code",
   "execution_count": 1,
   "id": "64fa51eb-c947-4fec-8d37-be583fbdf8af",
   "metadata": {
    "scrolled": true
   },
   "outputs": [
    {
     "data": {
      "text/latex": [
       "$\\displaystyle \\left( \\left[\\begin{matrix}x_{0 1} + x_{1 C1} \\cos{\\left(\\theta_{O 1} \\right)}\\\\x_{1 C1} \\sin{\\left(\\theta_{O 1} \\right)} + y_{0 1}\\\\0\\end{matrix}\\right], \\  \\left[\\begin{matrix}L_{1} \\cos{\\left(\\theta_{O 1} \\right)} + x_{0 1} + x_{2 C2} \\cos{\\left(\\theta_{1 2} + \\theta_{O 1} \\right)}\\\\L_{1} \\sin{\\left(\\theta_{O 1} \\right)} + x_{2 C2} \\sin{\\left(\\theta_{1 2} + \\theta_{O 1} \\right)} + y_{0 1}\\\\0\\end{matrix}\\right], \\  \\left[\\begin{matrix}L_{1} \\cos{\\left(\\theta_{O 1} \\right)} + L_{2} \\cos{\\left(\\theta_{1 2} + \\theta_{O 1} \\right)} + x_{0 1} + x_{3 C3} \\cos{\\left(\\theta_{1 2} + \\theta_{2 3} + \\theta_{O 1} \\right)}\\\\L_{1} \\sin{\\left(\\theta_{O 1} \\right)} + L_{2} \\sin{\\left(\\theta_{1 2} + \\theta_{O 1} \\right)} + x_{3 C3} \\sin{\\left(\\theta_{1 2} + \\theta_{2 3} + \\theta_{O 1} \\right)} + y_{0 1}\\\\0\\end{matrix}\\right]\\right)$"
      ],
      "text/plain": [
       "⎛⎡x₀ ₁ + x_1_C1⋅cos(θ_O_1)⎤  ⎡L₁⋅cos(θ_O_1) + x₀ ₁ + x_2_C2⋅cos(θ₁ ₂ + θ_O_1)⎤ ↪\n",
       "⎜⎢                        ⎥  ⎢                                               ⎥ ↪\n",
       "⎜⎢x_1_C1⋅sin(θ_O_1) + y₀ ₁⎥, ⎢L₁⋅sin(θ_O_1) + x_2_C2⋅sin(θ₁ ₂ + θ_O_1) + y₀ ₁⎥ ↪\n",
       "⎜⎢                        ⎥  ⎢                                               ⎥ ↪\n",
       "⎝⎣           0            ⎦  ⎣                       0                       ⎦ ↪\n",
       "\n",
       "↪   ⎡L₁⋅cos(θ_O_1) + L₂⋅cos(θ₁ ₂ + θ_O_1) + x₀ ₁ + x_3_C3⋅cos(θ₁ ₂ + θ₂ ₃ + θ_ ↪\n",
       "↪   ⎢                                                                          ↪\n",
       "↪ , ⎢L₁⋅sin(θ_O_1) + L₂⋅sin(θ₁ ₂ + θ_O_1) + x_3_C3⋅sin(θ₁ ₂ + θ₂ ₃ + θ_O_1) +  ↪\n",
       "↪   ⎢                                                                          ↪\n",
       "↪   ⎣                                      0                                   ↪\n",
       "\n",
       "↪ O_1)⎤⎞\n",
       "↪     ⎥⎟\n",
       "↪ y₀ ₁⎥⎟\n",
       "↪     ⎥⎟\n",
       "↪     ⎦⎠"
      ]
     },
     "execution_count": 1,
     "metadata": {},
     "output_type": "execute_result"
    }
   ],
   "source": [
    "# Importamos la librería SymPy para trabajar con álgebra simbólica\n",
    "import sympy as sp\n",
    "\n",
    "# Definir las variables simbólicas\n",
    "# 'x_0_1', 'x_1_C1', 'x_2_C2', 'x_3_C3': representan las posiciones de los centros de masa de los componentes C1, C2, y C3 respectivamente.\n",
    "# 'L1', 'L2', 'L3': Longitudes de los eslabones del robot.\n",
    "# 'y_0_1': Componente de traslación en Y para la posición base.\n",
    "# 'theta_O_1', 'theta_1_2', 'theta_2_3': Ángulos de rotación entre los diferentes eslabones del robot.\n",
    "x_0_1, x_1_C1, x_2_C2, x_3_C3, L1, L2, L3, y_0_1, theta_O_1, theta_1_2, theta_2_3 = sp.symbols('x_0_1 x_1_C1 x_2_C2 x_3_C3 L1 L2 L3 y_0_1 theta_O_1 theta_1_2 theta_2_3')\n",
    "\n",
    "# Inicializar la impresión bonita para representar expresiones matemáticas en Jupyter Notebook de forma legible\n",
    "sp.init_printing()\n",
    "\n",
    "# Definir la función Tij que calcula la matriz de transformación homogénea\n",
    "# La matriz Tij describe cómo un sistema de coordenadas se transforma a otro,\n",
    "# con los parámetros de traslación (x, y, z) y rotación (g, b, a) sobre los ejes Z, Y, X respectivamente.\n",
    "def Tij(x, y, z, g, b, a):\n",
    "    return sp.Matrix([[sp.cos(a)*sp.cos(b), sp.cos(a)*sp.sin(b)*sp.sin(g)-sp.sin(a)*sp.cos(g), sp.sin(a)*sp.sin(g)+sp.cos(a)*sp.sin(b)*sp.cos(g), x],\n",
    "                      [sp.sin(a)*sp.cos(b), sp.cos(a)*sp.cos(g)+sp.sin(a)*sp.sin(b)*sp.sin(g), sp.sin(a)*sp.sin(b)*sp.cos(g)-sp.cos(a)*sp.sin(g), y],\n",
    "                      [-sp.sin(b), sp.cos(b)*sp.sin(g), sp.cos(b)*sp.cos(g), z],\n",
    "                      [0, 0, 0, 1]])  # Esta última fila asegura que la matriz es de transformación homogénea 4x4\n",
    "\n",
    "# Transformación homogénea para el centro de masa de C1, usando la función Tij\n",
    "# Calculamos la matriz de transformación para el centro de masa de C1 en el sistema global\n",
    "T_1_C1 = Tij(x_1_C1, 0, 0, 0, 0, 0)\n",
    "\n",
    "# Definir la matriz de transformación homogénea T_O_1 que describe la relación entre el sistema base O y el primer eslabón 1\n",
    "# Usamos una rotación alrededor del eje Z (theta_O_1) para la transformación de O a 1\n",
    "T_O_1 = sp.Matrix([[sp.cos(theta_O_1), -sp.sin(theta_O_1), 0, 0],\n",
    "                   [sp.sin(theta_O_1), sp.cos(theta_O_1), 0, 0],\n",
    "                   [0, 0, 1, 0],\n",
    "                   [0, 0, 0, 1]])\n",
    "\n",
    "# Multiplicamos las matrices de transformación para obtener la transformación total desde el sistema base O hasta C1\n",
    "T_O_C1 = T_O_1 * T_1_C1\n",
    "\n",
    "# Calcular el vector de posición para el centro de masa de C1 (en coordenadas globales)\n",
    "# El vector de posición toma en cuenta las traslaciones en los ejes X y Y, más las contribuciones de las posiciones relativas de C1\n",
    "p_O_C1 = sp.Matrix([x_0_1 + x_1_C1 * sp.cos(theta_O_1), \n",
    "                    y_0_1 + x_1_C1 * sp.sin(theta_O_1),  # Agregar la traslación en Y al cálculo\n",
    "                    0])\n",
    "\n",
    "# Transformación homogénea para el centro de masa de C2 (calculando su posición relativa con respecto al sistema de coordenadas global)\n",
    "T_2_C2 = Tij(x_2_C2, 0, 0, 0, 0, 0)\n",
    "\n",
    "# Multiplicación de matrices para obtener la transformación total T_O_C2 (considerando la rotación entre los eslabones 1 y 2)\n",
    "# Primero multiplicamos la transformación de O a 1, luego de 1 a 2, y finalmente de 2 a C2\n",
    "T_1_2 = sp.Matrix([[sp.cos(theta_1_2), -sp.sin(theta_1_2), 0, 0],\n",
    "                   [sp.sin(theta_1_2), sp.cos(theta_1_2), 0, 0],\n",
    "                   [0, 0, 1, 0],\n",
    "                   [0, 0, 0, 1]])\n",
    "\n",
    "T_O_C2 = T_O_1 * T_1_2 * T_2_C2\n",
    "\n",
    "# Calcular el vector de posición para el centro de masa de C2 (usando las posiciones de traslación)\n",
    "# Sumamos las posiciones globales de los eslabones con las contribuciones de las posiciones relativas de C2\n",
    "p_O_C2 = sp.simplify(sp.Matrix([x_0_1 + x_2_C2 * sp.cos(theta_1_2 + theta_O_1) + L1 * sp.cos(theta_O_1),\n",
    "                               y_0_1 + x_2_C2 * sp.sin(theta_1_2 + theta_O_1) + L1 * sp.sin(theta_O_1),\n",
    "                               0]))\n",
    "\n",
    "# Transformación homogénea para el centro de masa de C3 (calculando su posición relativa con respecto al sistema de coordenadas global)\n",
    "T_3_C3 = Tij(x_3_C3, 0, 0, 0, 0, 0)\n",
    "\n",
    "# Multiplicación de matrices para obtener la transformación total T_O_C3 (considerando las rotaciones entre los eslabones 1-2 y 2-3)\n",
    "# Multiplicamos las matrices de transformación entre los eslabones 1, 2 y 3 para obtener la posición de C3\n",
    "T_2_3 = sp.Matrix([[sp.cos(theta_2_3), -sp.sin(theta_2_3), 0, 0],\n",
    "                   [sp.sin(theta_2_3), sp.cos(theta_2_3), 0, 0],\n",
    "                   [0, 0, 1, 0],\n",
    "                   [0, 0, 0, 1]])\n",
    "\n",
    "T_O_C3 = T_O_1 * T_1_2 * T_2_3 * T_3_C3\n",
    "\n",
    "# Calcular el vector de posición para el centro de masa de C3 (en coordenadas globales)\n",
    "# Sumamos las posiciones globales de los eslabones con las contribuciones de las posiciones relativas de C3\n",
    "p_O_C3 = sp.simplify(sp.Matrix([x_0_1 + L2 * sp.cos(theta_1_2 + theta_O_1) + L1 * sp.cos(theta_O_1) + x_3_C3 * sp.cos(theta_1_2 + theta_2_3 + theta_O_1),\n",
    "                               y_0_1 + x_3_C3 * sp.sin(theta_1_2 + theta_2_3 + theta_O_1) + L2 * sp.sin(theta_1_2 + theta_O_1) + L1 * sp.sin(theta_O_1),\n",
    "                               0]))\n",
    "\n",
    "# Mostrar los resultados de las posiciones de los centros de masa de C1, C2 y C3\n",
    "# Esto muestra las matrices con las posiciones de los centros de masa en el sistema global\n",
    "p_O_C1, p_O_C2, p_O_C3\n",
    "\n"
   ]
  },
  {
   "cell_type": "markdown",
   "id": "5e4904f5-da50-4375-9cad-10db007602c0",
   "metadata": {},
   "source": [
    "### VELOCIDADES CALCULADAS\n",
    "\n",
    "Las velocidades de los centros de masa son fundamentales para calcular la energía cinética del sistema. Para derivar las ecuaciones de movimiento utilizando el principio de Lagrange, es necesario conocer tanto las velocidades lineales como angulares de cada componente del robot. Estas velocidades se obtienen a partir de las posiciones de los centros de masa, considerando las transformaciones entre los eslabones del robot. Por lo tanto, realizaremos los cálculos correspondientes para determinar las velocidades de cada centro de masa, empleando la derivada temporal de sus posiciones. Esto nos permitirá obtener las velocidades lineales y, si es necesario, las angulares. Las operaciones requeridas incluirán derivadas de las matrices de transformación, teniendo en cuenta las velocidades articulares y las velocidades relativas entre eslabones. Con las velocidades calculadas, podremos determinar la energía cinética del sistema, lo que es esencial para desarrollar las ecuaciones que describen el comportamiento dinámico del robot."
   ]
  },
  {
   "cell_type": "code",
   "execution_count": 3,
   "id": "43795da4-0342-4231-978c-65f6c6b6b179",
   "metadata": {},
   "outputs": [
    {
     "data": {
      "text/latex": [
       "$\\displaystyle \\left( \\left[\\begin{matrix}- \\theta_{dot O 1} x_{1 C1} \\sin{\\left(\\theta_{O 1} \\right)}\\\\\\theta_{dot O 1} x_{1 C1} \\cos{\\left(\\theta_{O 1} \\right)}\\\\0\\end{matrix}\\right], \\  \\left[\\begin{matrix}- \\theta_{dot 1 2} x_{2 C2} \\sin{\\left(\\theta_{1 2} + \\theta_{O 1} \\right)} + \\theta_{dot O 1} \\left(- L_{1} \\sin{\\left(\\theta_{O 1} \\right)} - x_{2 C2} \\sin{\\left(\\theta_{1 2} + \\theta_{O 1} \\right)}\\right)\\\\\\theta_{dot 1 2} x_{2 C2} \\cos{\\left(\\theta_{1 2} + \\theta_{O 1} \\right)} + \\theta_{dot O 1} \\left(L_{1} \\cos{\\left(\\theta_{O 1} \\right)} + x_{2 C2} \\cos{\\left(\\theta_{1 2} + \\theta_{O 1} \\right)}\\right)\\\\0\\end{matrix}\\right], \\  \\left[\\begin{matrix}\\theta_{dot 1 2} \\left(- L_{2} \\sin{\\left(\\theta_{1 2} + \\theta_{O 1} \\right)} - x_{3 C3} \\sin{\\left(\\theta_{1 2} + \\theta_{2 3} + \\theta_{O 1} \\right)}\\right) - \\theta_{dot 2 3} x_{3 C3} \\sin{\\left(\\theta_{1 2} + \\theta_{2 3} + \\theta_{O 1} \\right)} + \\theta_{dot O 1} \\left(- L_{1} \\sin{\\left(\\theta_{O 1} \\right)} - L_{2} \\sin{\\left(\\theta_{1 2} + \\theta_{O 1} \\right)} - x_{3 C3} \\sin{\\left(\\theta_{1 2} + \\theta_{2 3} + \\theta_{O 1} \\right)}\\right)\\\\\\theta_{dot 1 2} \\left(L_{2} \\cos{\\left(\\theta_{1 2} + \\theta_{O 1} \\right)} + x_{3 C3} \\cos{\\left(\\theta_{1 2} + \\theta_{2 3} + \\theta_{O 1} \\right)}\\right) + \\theta_{dot 2 3} x_{3 C3} \\cos{\\left(\\theta_{1 2} + \\theta_{2 3} + \\theta_{O 1} \\right)} + \\theta_{dot O 1} \\left(L_{1} \\cos{\\left(\\theta_{O 1} \\right)} + L_{2} \\cos{\\left(\\theta_{1 2} + \\theta_{O 1} \\right)} + x_{3 C3} \\cos{\\left(\\theta_{1 2} + \\theta_{2 3} + \\theta_{O 1} \\right)}\\right)\\\\0\\end{matrix}\\right]\\right)$"
      ],
      "text/plain": [
       "⎛⎡-θ_dot_O_1⋅x_1_C1⋅sin(θ_O_1)⎤  ⎡-θ_dot_1_2⋅x_2_C2⋅sin(θ₁ ₂ + θ_O_1) + θ_dot_ ↪\n",
       "⎜⎢                            ⎥  ⎢                                             ↪\n",
       "⎜⎢θ_dot_O_1⋅x_1_C1⋅cos(θ_O_1) ⎥, ⎢ θ_dot_1_2⋅x_2_C2⋅cos(θ₁ ₂ + θ_O_1) + θ_dot_ ↪\n",
       "⎜⎢                            ⎥  ⎢                                             ↪\n",
       "⎝⎣             0              ⎦  ⎣                                             ↪\n",
       "\n",
       "↪ O_1⋅(-L₁⋅sin(θ_O_1) - x_2_C2⋅sin(θ₁ ₂ + θ_O_1))⎤  ⎡θ_dot_1_2⋅(-L₂⋅sin(θ₁ ₂ + ↪\n",
       "↪                                                ⎥  ⎢                          ↪\n",
       "↪ O_1⋅(L₁⋅cos(θ_O_1) + x_2_C2⋅cos(θ₁ ₂ + θ_O_1)) ⎥, ⎢ θ_dot_1_2⋅(L₂⋅cos(θ₁ ₂ + ↪\n",
       "↪                                                ⎥  ⎢                          ↪\n",
       "↪  0                                             ⎦  ⎣                          ↪\n",
       "\n",
       "↪  θ_O_1) - x_3_C3⋅sin(θ₁ ₂ + θ₂ ₃ + θ_O_1)) - θ_dot_2_3⋅x_3_C3⋅sin(θ₁ ₂ + θ₂  ↪\n",
       "↪                                                                              ↪\n",
       "↪  θ_O_1) + x_3_C3⋅cos(θ₁ ₂ + θ₂ ₃ + θ_O_1)) + θ_dot_2_3⋅x_3_C3⋅cos(θ₁ ₂ + θ₂  ↪\n",
       "↪                                                                              ↪\n",
       "↪                                                                          0   ↪\n",
       "\n",
       "↪ ₃ + θ_O_1) + θ_dot_O_1⋅(-L₁⋅sin(θ_O_1) - L₂⋅sin(θ₁ ₂ + θ_O_1) - x_3_C3⋅sin(θ ↪\n",
       "↪                                                                              ↪\n",
       "↪ ₃ + θ_O_1) + θ_dot_O_1⋅(L₁⋅cos(θ_O_1) + L₂⋅cos(θ₁ ₂ + θ_O_1) + x_3_C3⋅cos(θ₁ ↪\n",
       "↪                                                                              ↪\n",
       "↪                                                                              ↪\n",
       "\n",
       "↪ ₁ ₂ + θ₂ ₃ + θ_O_1))⎤⎞\n",
       "↪                     ⎥⎟\n",
       "↪  ₂ + θ₂ ₃ + θ_O_1)) ⎥⎟\n",
       "↪                     ⎥⎟\n",
       "↪                     ⎦⎠"
      ]
     },
     "execution_count": 3,
     "metadata": {},
     "output_type": "execute_result"
    }
   ],
   "source": [
    "# Calcular las velocidades de los centros de masa\n",
    "\n",
    "# Velocidades de C1\n",
    "# Para calcular la velocidad del centro de masa de C1 (v_O_C1), se realiza la derivada temporal de la\n",
    "# posición de C1 (p_O_C1) con respecto al ángulo theta_O_1 (esto nos da la tasa de cambio de la posición de C1).\n",
    "# Luego, multiplicamos este resultado por la velocidad angular theta_dot_O_1 para obtener la velocidad lineal de C1.\n",
    "v_O_C1 = sp.diff(p_O_C1, theta_O_1) * sp.symbols('theta_dot_O_1')  # Velocidad de C1\n",
    "\n",
    "# Velocidades de C2\n",
    "# Para calcular la velocidad del centro de masa de C2 (v_O_C2), se realizan dos derivadas:\n",
    "# - Una con respecto al ángulo theta_O_1, multiplicada por la velocidad angular theta_dot_O_1.\n",
    "# - Otra con respecto al ángulo theta_1_2, multiplicada por la velocidad angular theta_dot_1_2.\n",
    "# La suma de estas derivadas nos da la velocidad total de C2.\n",
    "v_O_C2 = sp.diff(p_O_C2, theta_O_1) * sp.symbols('theta_dot_O_1') + \\\n",
    "         sp.diff(p_O_C2, theta_1_2) * sp.symbols('theta_dot_1_2')  # Velocidad de C2\n",
    "\n",
    "# Velocidades de C3\n",
    "# Para calcular la velocidad del centro de masa de C3 (v_O_C3), se realizan tres derivadas:\n",
    "# - Una con respecto a theta_O_1, multiplicada por theta_dot_O_1.\n",
    "# - Otra con respecto a theta_1_2, multiplicada por theta_dot_1_2.\n",
    "# - Y una última con respecto a theta_2_3, multiplicada por theta_dot_2_3.\n",
    "# La suma de estas tres derivadas nos da la velocidad total de C3.\n",
    "v_O_C3 = sp.diff(p_O_C3, theta_O_1) * sp.symbols('theta_dot_O_1') + \\\n",
    "         sp.diff(p_O_C3, theta_1_2) * sp.symbols('theta_dot_1_2') + \\\n",
    "         sp.diff(p_O_C3, theta_2_3) * sp.symbols('theta_dot_2_3')  # Velocidad de C3\n",
    "\n",
    "# Mostrar las velocidades calculadas\n",
    "# Se muestra el resultado de las velocidades de los centros de masa de C1, C2 y C3.\n",
    "# Estas velocidades son funciones de las velocidades articulares de las articulaciones correspondientes.\n",
    "v_O_C1, v_O_C2, v_O_C3\n",
    "\n"
   ]
  },
  {
   "cell_type": "markdown",
   "id": "257d98cd-add8-4076-8b3d-597bf90f91be",
   "metadata": {},
   "source": [
    "En esta sección, nos enfocaremos en el cálculo de las velocidades angulares. Utilizaremos las ecuaciones dinámicas previamente derivadas, que están basadas en las velocidades lineales de cada componente del robot. Las velocidades angulares resultantes nos proporcionarán una descripción completa del movimiento del robot, combinando las velocidades lineales de los centros de masa y las rotacionales de las articulaciones.\n",
    "\n",
    "A continuación, comenzaremos a calcular las velocidades angulares del primer componente (C1) dentro del sistema de coordenadas. Primero, definiremos la velocidad angular \\omega_1_1 para este componente y asignaremos un valor inicial nulo para el vector de velocidad angular \\omega_0_0. Luego, construiremos la matriz de rotación R_0_1, que describe cómo se transforman las coordenadas entre el sistema global y el sistema de referencia del componente, utilizando el ángulo 𝜃_1. Posteriormente, obtendremos la transposición de esta matriz, R_1_0, para ajustar las coordenadas cuando sea necesario. Con estos pasos, avanzaremos hacia el cálculo de las velocidades angulares de las articulaciones del robot. Ahora procederemos con los cálculos descritos."
   ]
  },
  {
   "cell_type": "code",
   "execution_count": 6,
   "id": "a6bb6879-d662-42a3-96fd-25a27ce7761d",
   "metadata": {},
   "outputs": [
    {
     "name": "stdout",
     "output_type": "stream",
     "text": [
      "   R_0_1=                      R_1_0=\n"
     ]
    },
    {
     "data": {
      "text/latex": [
       "$\\displaystyle \\left( \\left[\\begin{matrix}\\cos{\\left(\\theta_{O 1} \\right)} & - \\sin{\\left(\\theta_{O 1} \\right)} & 0\\\\\\sin{\\left(\\theta_{O 1} \\right)} & \\cos{\\left(\\theta_{O 1} \\right)} & 0\\\\0 & 0 & 1\\end{matrix}\\right], \\  \\left[\\begin{matrix}\\cos{\\left(\\theta_{O 1} \\right)} & \\sin{\\left(\\theta_{O 1} \\right)} & 0\\\\- \\sin{\\left(\\theta_{O 1} \\right)} & \\cos{\\left(\\theta_{O 1} \\right)} & 0\\\\0 & 0 & 1\\end{matrix}\\right]\\right)$"
      ],
      "text/plain": [
       "⎛⎡cos(θ_O_1)  -sin(θ_O_1)  0⎤  ⎡cos(θ_O_1)   sin(θ_O_1)  0⎤⎞\n",
       "⎜⎢                          ⎥  ⎢                          ⎥⎟\n",
       "⎜⎢sin(θ_O_1)  cos(θ_O_1)   0⎥, ⎢-sin(θ_O_1)  cos(θ_O_1)  0⎥⎟\n",
       "⎜⎢                          ⎥  ⎢                          ⎥⎟\n",
       "⎝⎣    0            0       1⎦  ⎣     0           0       1⎦⎠"
      ]
     },
     "execution_count": 6,
     "metadata": {},
     "output_type": "execute_result"
    }
   ],
   "source": [
    "# Importamos la librería SymPy para trabajar con álgebra simbólica\n",
    "import sympy as sp\n",
    "\n",
    "# Definir las variables simbólicas\n",
    "# 'theta_O_1' es el ángulo de rotación de la articulación 1 con respecto al sistema base (O).\n",
    "theta_O_1 = sp.symbols('theta_O_1')  # Ángulo de rotación del cuerpo 1\n",
    "\n",
    "# 'omega_1_1' es la velocidad angular de la articulación 1 del cuerpo 1.\n",
    "omega_1_1 = sp.symbols('omega_1_1')  # Velocidad angular del cuerpo 1\n",
    "\n",
    "# Definir el vector de velocidad angular\n",
    "# 'omega_0_0' es el vector de velocidad angular inicial. En este caso, comienza en cero, ya que el movimiento inicial es nulo.\n",
    "omega_0_0 = sp.Matrix([0, 0, 0])  # Inicialmente nula\n",
    "\n",
    "# 'n_1_1' es el vector unitario en la dirección del eje Z, que se utiliza para las rotaciones alrededor del eje Z.\n",
    "n_1_1 = sp.Matrix([0, 0, 1])  # Vector unitario en la dirección del eje z\n",
    "\n",
    "# Matriz de transformación R_0_1 (3x3) que describe la rotación del cuerpo 1 con respecto al sistema global.\n",
    "# Esta matriz representa cómo se transforma un punto en el sistema de coordenadas del cuerpo 1 a las coordenadas del sistema global.\n",
    "# La matriz R_0_1 depende del ángulo de rotación theta_O_1.\n",
    "R_0_1 = sp.Matrix([[sp.cos(theta_O_1), -sp.sin(theta_O_1), 0], \n",
    "                   [sp.sin(theta_O_1), sp.cos(theta_O_1), 0], \n",
    "                   [0, 0, 1]])\n",
    "\n",
    "# La transposición de la matriz R_0_1 nos da R_1_0, que describe la rotación inversa (del sistema global al sistema del cuerpo 1).\n",
    "# Esta matriz será utilizada para ajustar las coordenadas cuando sea necesario.\n",
    "R_1_0 = R_0_1.transpose()\n",
    "\n",
    "# Imprimir las matrices de rotación R_0_1 y R_1_0 para visualización\n",
    "print('   R_0_1=                      R_1_0=')\n",
    "\n",
    "# Mostrar los resultados de las matrices de transformación y su transposición\n",
    "R_0_1, R_1_0\n",
    "\n"
   ]
  },
  {
   "cell_type": "code",
   "execution_count": 9,
   "id": "b593d38f-f967-471e-aba7-0517dd0589f3",
   "metadata": {},
   "outputs": [
    {
     "data": {
      "text/latex": [
       "$\\displaystyle \\left( \\left[\\begin{matrix}0\\\\0\\\\0\\end{matrix}\\right], \\  \\left[\\begin{matrix}0\\\\0\\\\\\omega_{2 2}\\end{matrix}\\right]\\right)$"
      ],
      "text/plain": [
       "⎛⎡0⎤  ⎡ 0  ⎤⎞\n",
       "⎜⎢ ⎥  ⎢    ⎥⎟\n",
       "⎜⎢0⎥, ⎢ 0  ⎥⎟\n",
       "⎜⎢ ⎥  ⎢    ⎥⎟\n",
       "⎝⎣0⎦  ⎣ω₂ ₂⎦⎠"
      ]
     },
     "execution_count": 9,
     "metadata": {},
     "output_type": "execute_result"
    }
   ],
   "source": [
    "# Importamos la librería SymPy para trabajar con álgebra simbólica\n",
    "import sympy as sp\n",
    "\n",
    "# Definir las variables simbólicas\n",
    "# 'theta_O_1' y 'theta_1_2' son los ángulos de rotación entre los diferentes cuerpos (primer y segundo eslabón).\n",
    "# Estos ángulos controlan la orientación relativa entre los cuerpos del robot.\n",
    "theta_O_1, theta_1_2 = sp.symbols('theta_O_1 theta_1_2')\n",
    "\n",
    "# 'omega_0_0' es el vector de velocidad angular del sistema base. Inicialmente se establece en cero, \n",
    "# ya que no hay rotación en el sistema base en el instante inicial.\n",
    "omega_0_0 = sp.Matrix([0, 0, 0])  # Velocidad angular inicial\n",
    "\n",
    "# Propagación de la velocidad angular para el primer cuerpo (omega_1_1)\n",
    "# La velocidad angular del primer cuerpo (omega_1_1) es igual a la velocidad angular del sistema base (omega_0_0),\n",
    "# ya que no hay rotación en el sistema base en este caso. Se toma solo la componente Z, que es la componente de rotación alrededor del eje Z.\n",
    "omega_1_1 = sp.Matrix([0, 0, omega_0_0[2]])  # Ejemplo de propagación de omega_1_1\n",
    "\n",
    "# Definición de n_1_1\n",
    "# 'n_1_1' es el vector unitario en la dirección del eje Z, que se usa para describir la orientación de los cuerpos en el espacio.\n",
    "# Este vector es importante para la rotación de los cuerpos y se usa para propagar la velocidad angular.\n",
    "n_1_1 = sp.Matrix([0, 0, 1])  # Vector unitario\n",
    "\n",
    "# Propagación para el segundo cuerpo\n",
    "# 'omega_2_2' es la velocidad angular del segundo cuerpo. Esta variable es simbólica, ya que es una incógnita\n",
    "# que depende de las rotaciones y las velocidades angulares anteriores.\n",
    "omega_2_2 = sp.symbols('omega_2_2')\n",
    "\n",
    "# 'n_2_2' es el vector unitario para el segundo cuerpo, que también está alineado con el eje Z\n",
    "# Se utilizará para propagar la velocidad angular en el sistema de referencia del segundo cuerpo.\n",
    "n_2_2 = sp.Matrix([0, 0, 1])  # Vector unitario para el segundo cuerpo\n",
    "\n",
    "# Matriz de rotación R_1_2\n",
    "# La matriz de rotación 'R_1_2' describe la relación entre el primer y el segundo cuerpo del robot.\n",
    "# La matriz se basa en el ángulo 'theta_1_2', que es el ángulo entre los dos cuerpos alrededor del eje Z.\n",
    "# Esta matriz de rotación transforma las coordenadas del primer cuerpo al segundo cuerpo.\n",
    "R_1_2 = sp.Matrix([[sp.cos(theta_1_2), -sp.sin(theta_1_2), 0],\n",
    "                   [sp.sin(theta_1_2), sp.cos(theta_1_2), 0],\n",
    "                   [0, 0, 1]])\n",
    "\n",
    "# Propagación de la velocidad angular para el segundo cuerpo\n",
    "# Usamos la matriz de rotación 'R_1_2' para transformar la velocidad angular del primer cuerpo (omega_1_1) al sistema del segundo cuerpo.\n",
    "# Además, se suma la contribución de la velocidad angular del segundo cuerpo 'omega_2_2' a lo largo del eje Z, utilizando el vector unitario 'n_2_2'.\n",
    "omega_2_2 = R_1_2 * omega_1_1 + n_2_2 * omega_2_2\n",
    "\n",
    "# Mostrar el resultado\n",
    "# Mostramos las velocidades angulares para el primer y segundo cuerpo: omega_1_1 y omega_2_2.\n",
    "# omega_1_1 es la velocidad angular del primer cuerpo, y omega_2_2 es la velocidad angular del segundo cuerpo,\n",
    "# que se calcula propagando las velocidades angulares a través de la rotación entre los cuerpos.\n",
    "omega_1_1, omega_2_2\n",
    "\n"
   ]
  },
  {
   "cell_type": "code",
   "execution_count": 12,
   "id": "2756d45e-b8e5-4e4f-ac43-783662a18b09",
   "metadata": {},
   "outputs": [
    {
     "data": {
      "text/latex": [
       "$\\displaystyle \\left( \\left[\\begin{matrix}0\\\\0\\\\0\\end{matrix}\\right], \\  \\left[\\begin{matrix}0\\\\0\\\\\\theta_{dot 1 2}\\end{matrix}\\right], \\  \\left[\\begin{matrix}0\\\\0\\\\\\theta_{dot 1 2} + \\theta_{dot 2 3}\\end{matrix}\\right]\\right)$"
      ],
      "text/plain": [
       "⎛⎡0⎤  ⎡    0    ⎤  ⎡          0          ⎤⎞\n",
       "⎜⎢ ⎥  ⎢         ⎥  ⎢                     ⎥⎟\n",
       "⎜⎢0⎥, ⎢    0    ⎥, ⎢          0          ⎥⎟\n",
       "⎜⎢ ⎥  ⎢         ⎥  ⎢                     ⎥⎟\n",
       "⎝⎣0⎦  ⎣θ_dot_1_2⎦  ⎣θ_dot_1_2 + θ_dot_2_3⎦⎠"
      ]
     },
     "execution_count": 12,
     "metadata": {},
     "output_type": "execute_result"
    }
   ],
   "source": [
    "# Importamos la librería SymPy para trabajar con álgebra simbólica\n",
    "import sympy as sp\n",
    "\n",
    "# Definir las variables simbólicas\n",
    "# 'theta_O_1', 'theta_1_2', 'theta_2_3' son los ángulos de rotación entre los diferentes cuerpos del robot.\n",
    "# 'theta_dot_O_1', 'theta_dot_1_2', 'theta_dot_2_3' son las velocidades angulares correspondientes a esos ángulos.\n",
    "theta_O_1, theta_1_2, theta_2_3 = sp.symbols('theta_O_1 theta_1_2 theta_2_3')\n",
    "theta_dot_O_1, theta_dot_1_2, theta_dot_2_3 = sp.symbols('theta_dot_O_1 theta_dot_1_2 theta_dot_2_3')\n",
    "\n",
    "# Definir las matrices de transformación y velocidades previas\n",
    "# 'omega_0_0' es el vector de velocidad angular inicial del sistema base. En este caso, no hay movimiento al principio, por lo que se establece en 0.\n",
    "omega_0_0 = sp.Matrix([0, 0, 0])  # Velocidad angular inicial\n",
    "\n",
    "# Propagación de la velocidad angular para el primer cuerpo (omega_1_1)\n",
    "# 'omega_1_1' es la velocidad angular del primer cuerpo. En este caso, la velocidad angular del primer cuerpo es la misma que la del sistema base\n",
    "# ya que se trata de la velocidad angular de la primera articulación.\n",
    "# Se toma solo la componente Z, ya que estamos trabajando con una rotación alrededor del eje Z.\n",
    "omega_1_1 = sp.Matrix([0, 0, omega_0_0[2]])\n",
    "\n",
    "# Definir el vector unitario n_1_1\n",
    "# 'n_1_1' es el vector unitario en la dirección del eje Z. Este vector se usa para las rotaciones alrededor de dicho eje.\n",
    "n_1_1 = sp.Matrix([0, 0, 1])\n",
    "\n",
    "# Propagación de la velocidad angular para el segundo cuerpo\n",
    "# 'omega_2_2' es la velocidad angular del segundo cuerpo, la cual se calcula utilizando la rotación del primer cuerpo y el ángulo entre ambos cuerpos.\n",
    "omega_2_2 = sp.symbols('omega_2_2')  # Velocidad angular para el segundo cuerpo\n",
    "\n",
    "# 'n_2_2' es el vector unitario en la dirección del eje Z para el segundo cuerpo, similar al que usamos para el primer cuerpo.\n",
    "n_2_2 = sp.Matrix([0, 0, 1])  # Vector unitario para el segundo cuerpo\n",
    "\n",
    "# Matriz de rotación R_1_2 (para la relación entre el primer y el segundo cuerpo)\n",
    "# 'R_1_2' es la matriz de rotación que describe cómo el primer cuerpo se relaciona con el segundo cuerpo.\n",
    "# Esta matriz depende del ángulo 'theta_1_2', que es el ángulo de rotación entre los dos cuerpos.\n",
    "R_1_2 = sp.Matrix([[sp.cos(theta_1_2), -sp.sin(theta_1_2), 0],\n",
    "                   [sp.sin(theta_1_2), sp.cos(theta_1_2), 0],\n",
    "                   [0, 0, 1]])\n",
    "\n",
    "# Propagación de la velocidad angular para el segundo cuerpo\n",
    "# La velocidad angular 'omega_2_2' se obtiene aplicando la matriz de rotación 'R_1_2' a la velocidad angular del primer cuerpo 'omega_1_1',\n",
    "# y sumando la contribución de la velocidad angular del segundo cuerpo 'theta_dot_1_2' multiplicado por el vector unitario 'n_2_2'.\n",
    "omega_2_2 = R_1_2 * omega_1_1 + n_2_2 * theta_dot_1_2\n",
    "\n",
    "# Propagación para el tercer cuerpo\n",
    "# 'omega_3_3' es la velocidad angular del tercer cuerpo, similar a lo que hicimos con los otros cuerpos.\n",
    "omega_3_3 = sp.symbols('omega_3_3')  # Velocidad angular para el tercer cuerpo\n",
    "\n",
    "# 'n_3_3' es el vector unitario en la dirección del eje Z para el tercer cuerpo.\n",
    "n_3_3 = sp.Matrix([0, 0, 1])\n",
    "\n",
    "# Matriz de rotación R_2_3 (para la relación entre el segundo y el tercer cuerpo)\n",
    "# 'R_2_3' es la matriz de rotación que describe cómo el segundo cuerpo se relaciona con el tercer cuerpo.\n",
    "# Similar a la matriz 'R_1_2', esta matriz depende del ángulo 'theta_2_3', que es el ángulo de rotación entre los dos cuerpos.\n",
    "R_2_3 = sp.Matrix([[sp.cos(theta_2_3), -sp.sin(theta_2_3), 0],\n",
    "                   [sp.sin(theta_2_3), sp.cos(theta_2_3), 0],\n",
    "                   [0, 0, 1]])\n",
    "\n",
    "# Propagación de la velocidad angular para el tercer cuerpo\n",
    "# La velocidad angular 'omega_3_3' se calcula aplicando la matriz de rotación 'R_2_3' a la velocidad angular del segundo cuerpo 'omega_2_2',\n",
    "# y sumando la contribución de la velocidad angular del tercer cuerpo 'theta_dot_2_3' multiplicado por el vector unitario 'n_3_3'.\n",
    "omega_3_3 = R_2_3 * omega_2_2 + n_3_3 * theta_dot_2_3\n",
    "\n",
    "# Mostrar los resultados\n",
    "# Mostramos las velocidades angulares de los tres cuerpos: omega_1_1, omega_2_2 y omega_3_3.\n",
    "# Estas velocidades angulares describen cómo rotan los cuerpos en el sistema en función de las relaciones geométricas entre ellos.\n",
    "omega_1_1, omega_2_2, omega_3_3\n",
    "\n"
   ]
  },
  {
   "cell_type": "markdown",
   "id": "4c68f1e9-ecf8-4708-a695-0c3d671a5aee",
   "metadata": {},
   "source": [
    "### CONCLUSIONES"
   ]
  },
  {
   "cell_type": "markdown",
   "id": "e3d3e014-a20c-44a1-9c81-d81ef31a2868",
   "metadata": {},
   "source": [
    "La formulación de modelos cinemáticos y dinámicos de un robot representa un paso esencial para entender, predecir y controlar su comportamiento en entornos automatizados. A través del uso de transformaciones fue posible representar de forma sistemática la relación entre las articulaciones y la posición del efector final, mientras que la incorporación del Jacobiano permitió analizar las velocidades y aceleraciones del sistema con precisión.\n",
    "El empleo del formalismo de Euler-Lagrange facilitó la obtención de las ecuaciones dinámicas que describen las fuerzas internas requeridas para ejecutar un movimiento, integrando variables fundamentales como la masa, la energía cinética, el momento de inercia y la influencia gravitacional. \n",
    "La práctica y resolución de este examen permitió a los poner en marcha competencias esenciales de la mecatrónica, tales como, planteamiento y resolución de problemas complejos mediante el uso de herramientas computacionales como MATLAB, y la integración de conocimientos para diseñar modelos robustos y funcionales. \n",
    "Este trabajo también fortaleció la capacidad para el trabajo colaborativo y el análisis de riesgos inherentes a los sistemas dinámicos. Asimismo, evidenció la necesidad continua de práctica profesional y de aprendizaje autónomo, destacando la importancia de buscar, interpretar y aplicar conocimiento complementario en contextos reales de ingeniería.\n"
   ]
  }
 ],
 "metadata": {
  "kernelspec": {
   "display_name": "Python [conda env:base] *",
   "language": "python",
   "name": "conda-base-py"
  },
  "language_info": {
   "codemirror_mode": {
    "name": "ipython",
    "version": 3
   },
   "file_extension": ".py",
   "mimetype": "text/x-python",
   "name": "python",
   "nbconvert_exporter": "python",
   "pygments_lexer": "ipython3",
   "version": "3.12.7"
  }
 },
 "nbformat": 4,
 "nbformat_minor": 5
}
